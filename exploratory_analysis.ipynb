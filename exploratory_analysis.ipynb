{
 "cells": [
  {
   "cell_type": "markdown",
   "metadata": {},
   "source": [
    "## Exploratory Data Analysis\n",
    "\n",
    "Use this notebook to get familiar with the datasets we have. There is 10 questions we need to answer during the EDA.\n",
    "\n",
    "\n",
    "We shouldn't limit our EDA to these 10 questions. Let's be creative :)."
   ]
  },
  {
   "cell_type": "code",
   "execution_count": 113,
   "metadata": {},
   "outputs": [],
   "source": [
    "import pandas as pd\n",
    "import psycopg2\n",
    "import requests\n",
    "import plotly.express as px\n",
    "import json\n",
    "from IPython.display import JSON\n",
    "import datetime as dt\n",
    "import matplotlib.pyplot as plt\n",
    "import seaborn as sns\n",
    "import scipy.stats as st"
   ]
  },
  {
   "cell_type": "code",
   "execution_count": 114,
   "metadata": {},
   "outputs": [],
   "source": [
    "def flights_data(table, limit):\n",
    "    conn = psycopg2.connect(database=\"mid_term_project\", user=\"lhl_student\", password=\"lhl_student\", host=\"mid-term-project.ca2jkepgjpne.us-east-2.rds.amazonaws.com\", port=\"5432\")\n",
    "    df = pd.read_sql_query(f'''SELECT * FROM {table} ORDER BY random() LIMIT {limit};''', conn)\n",
    "    print(\"Database downloaded successfully\")\n",
    "    return df"
   ]
  },
  {
   "cell_type": "code",
   "execution_count": 104,
   "metadata": {},
   "outputs": [],
   "source": [
    "conn = psycopg2.connect(database=\"mid_term_project\", user=\"lhl_student\", password=\"lhl_student\", host=\"mid-term-project.ca2jkepgjpne.us-east-2.rds.amazonaws.com\", port=\"5432\")"
   ]
  },
  {
   "cell_type": "code",
   "execution_count": null,
   "metadata": {},
   "outputs": [],
   "source": [
    "df = flights_data('flights', 100000)\n"
   ]
  },
  {
   "cell_type": "code",
   "execution_count": 116,
   "metadata": {},
   "outputs": [],
   "source": [
    "df = pd.read_csv('Project_Files/raw_data100k.csv')"
   ]
  },
  {
   "cell_type": "markdown",
   "metadata": {},
   "source": [
    "#### **Task 1**: Test the hypothesis that the delay is from Normal distribution. and that **mean** of the delay is 0. Be careful about the outliers."
   ]
  },
  {
   "cell_type": "code",
   "execution_count": 9,
   "metadata": {},
   "outputs": [],
   "source": [
    "df = pd.read_csv('Project_Files/arr_delay.csv', sep=',')\n",
    "df = df.drop(columns = 'Unnamed: 0')"
   ]
  },
  {
   "cell_type": "code",
   "execution_count": 10,
   "metadata": {},
   "outputs": [
    {
     "data": {
      "text/html": [
       "<div>\n",
       "<style scoped>\n",
       "    .dataframe tbody tr th:only-of-type {\n",
       "        vertical-align: middle;\n",
       "    }\n",
       "\n",
       "    .dataframe tbody tr th {\n",
       "        vertical-align: top;\n",
       "    }\n",
       "\n",
       "    .dataframe thead th {\n",
       "        text-align: right;\n",
       "    }\n",
       "</style>\n",
       "<table border=\"1\" class=\"dataframe\">\n",
       "  <thead>\n",
       "    <tr style=\"text-align: right;\">\n",
       "      <th></th>\n",
       "      <th>fl_date</th>\n",
       "      <th>arr_delay</th>\n",
       "    </tr>\n",
       "  </thead>\n",
       "  <tbody>\n",
       "    <tr>\n",
       "      <th>0</th>\n",
       "      <td>2018-10-06</td>\n",
       "      <td>-20.0</td>\n",
       "    </tr>\n",
       "    <tr>\n",
       "      <th>1</th>\n",
       "      <td>2018-10-06</td>\n",
       "      <td>-34.0</td>\n",
       "    </tr>\n",
       "    <tr>\n",
       "      <th>2</th>\n",
       "      <td>2018-10-06</td>\n",
       "      <td>-22.0</td>\n",
       "    </tr>\n",
       "    <tr>\n",
       "      <th>3</th>\n",
       "      <td>2018-10-06</td>\n",
       "      <td>-10.0</td>\n",
       "    </tr>\n",
       "    <tr>\n",
       "      <th>4</th>\n",
       "      <td>2018-10-06</td>\n",
       "      <td>-1.0</td>\n",
       "    </tr>\n",
       "  </tbody>\n",
       "</table>\n",
       "</div>"
      ],
      "text/plain": [
       "      fl_date  arr_delay\n",
       "0  2018-10-06      -20.0\n",
       "1  2018-10-06      -34.0\n",
       "2  2018-10-06      -22.0\n",
       "3  2018-10-06      -10.0\n",
       "4  2018-10-06       -1.0"
      ]
     },
     "execution_count": 10,
     "metadata": {},
     "output_type": "execute_result"
    }
   ],
   "source": [
    "df.head(5)"
   ]
  },
  {
   "cell_type": "code",
   "execution_count": 38,
   "metadata": {},
   "outputs": [
    {
     "data": {
      "text/html": [
       "<div>\n",
       "<style scoped>\n",
       "    .dataframe tbody tr th:only-of-type {\n",
       "        vertical-align: middle;\n",
       "    }\n",
       "\n",
       "    .dataframe tbody tr th {\n",
       "        vertical-align: top;\n",
       "    }\n",
       "\n",
       "    .dataframe thead th {\n",
       "        text-align: right;\n",
       "    }\n",
       "</style>\n",
       "<table border=\"1\" class=\"dataframe\">\n",
       "  <thead>\n",
       "    <tr style=\"text-align: right;\">\n",
       "      <th></th>\n",
       "      <th>arr_delay</th>\n",
       "    </tr>\n",
       "  </thead>\n",
       "  <tbody>\n",
       "    <tr>\n",
       "      <th>count</th>\n",
       "      <td>97925.000000</td>\n",
       "    </tr>\n",
       "    <tr>\n",
       "      <th>mean</th>\n",
       "      <td>7.920694</td>\n",
       "    </tr>\n",
       "    <tr>\n",
       "      <th>std</th>\n",
       "      <td>47.660122</td>\n",
       "    </tr>\n",
       "    <tr>\n",
       "      <th>min</th>\n",
       "      <td>-104.000000</td>\n",
       "    </tr>\n",
       "    <tr>\n",
       "      <th>25%</th>\n",
       "      <td>-13.000000</td>\n",
       "    </tr>\n",
       "    <tr>\n",
       "      <th>50%</th>\n",
       "      <td>-4.000000</td>\n",
       "    </tr>\n",
       "    <tr>\n",
       "      <th>75%</th>\n",
       "      <td>11.000000</td>\n",
       "    </tr>\n",
       "    <tr>\n",
       "      <th>max</th>\n",
       "      <td>1537.000000</td>\n",
       "    </tr>\n",
       "  </tbody>\n",
       "</table>\n",
       "</div>"
      ],
      "text/plain": [
       "          arr_delay\n",
       "count  97925.000000\n",
       "mean       7.920694\n",
       "std       47.660122\n",
       "min     -104.000000\n",
       "25%      -13.000000\n",
       "50%       -4.000000\n",
       "75%       11.000000\n",
       "max     1537.000000"
      ]
     },
     "execution_count": 38,
     "metadata": {},
     "output_type": "execute_result"
    }
   ],
   "source": [
    "df.describe()"
   ]
  },
  {
   "cell_type": "code",
   "execution_count": 39,
   "metadata": {},
   "outputs": [
    {
     "data": {
      "text/plain": [
       "array([-20., -34., -22., ...,  nan,  nan,  nan])"
      ]
     },
     "execution_count": 39,
     "metadata": {},
     "output_type": "execute_result"
    }
   ],
   "source": [
    "arr_delay = df['arr_delay'].values\n",
    "arr_delay"
   ]
  },
  {
   "cell_type": "code",
   "execution_count": 73,
   "metadata": {},
   "outputs": [],
   "source": [
    "statistic, pvalue = st.shapiro(arr_delay[0:500])"
   ]
  },
  {
   "cell_type": "code",
   "execution_count": 74,
   "metadata": {},
   "outputs": [
    {
     "name": "stdout",
     "output_type": "stream",
     "text": [
      "nan 1.0\n"
     ]
    }
   ],
   "source": [
    "print(statistic, pvalue)"
   ]
  },
  {
   "cell_type": "markdown",
   "metadata": {},
   "source": [
    "p-value is > 0.05 so data is not normal"
   ]
  },
  {
   "cell_type": "code",
   "execution_count": 42,
   "metadata": {},
   "outputs": [
    {
     "data": {
      "text/plain": [
       "<AxesSubplot:xlabel='arr_delay', ylabel='Count'>"
      ]
     },
     "execution_count": 42,
     "metadata": {},
     "output_type": "execute_result"
    },
    {
     "data": {
      "image/png": "[encoded data removed]",
      "text/plain": [
       "<Figure size 432x288 with 1 Axes>"
      ]
     },
     "metadata": {
      "needs_background": "light"
     },
     "output_type": "display_data"
    }
   ],
   "source": [
    "sns.histplot(df['arr_delay'])"
   ]
  },
  {
   "cell_type": "code",
   "execution_count": 43,
   "metadata": {},
   "outputs": [
    {
     "data": {
      "text/plain": [
       "1537.0"
      ]
     },
     "execution_count": 43,
     "metadata": {},
     "output_type": "execute_result"
    }
   ],
   "source": [
    "max(df['arr_delay'])"
   ]
  },
  {
   "cell_type": "code",
   "execution_count": 44,
   "metadata": {},
   "outputs": [
    {
     "data": {
      "text/plain": [
       "<matplotlib.collections.PathCollection at 0x7fe862cb5a60>"
      ]
     },
     "execution_count": 44,
     "metadata": {},
     "output_type": "execute_result"
    },
    {
     "data": {
      "image/png": "[encoded data removed]",
      "text/plain": [
       "<Figure size 432x288 with 1 Axes>"
      ]
     },
     "metadata": {
      "needs_background": "light"
     },
     "output_type": "display_data"
    }
   ],
   "source": [
    "plt.scatter(x=df.index, y=df['arr_delay'])"
   ]
  },
  {
   "cell_type": "code",
   "execution_count": null,
   "metadata": {},
   "outputs": [],
   "source": []
  },
  {
   "cell_type": "markdown",
   "metadata": {},
   "source": [
    "#### **Task 2**: Is average/median monthly delay different during the year? If yes, which are months with the biggest delays and what could be the reason?"
   ]
  },
  {
   "cell_type": "code",
   "execution_count": 13,
   "metadata": {},
   "outputs": [
    {
     "data": {
      "text/html": [
       "<div>\n",
       "<style scoped>\n",
       "    .dataframe tbody tr th:only-of-type {\n",
       "        vertical-align: middle;\n",
       "    }\n",
       "\n",
       "    .dataframe tbody tr th {\n",
       "        vertical-align: top;\n",
       "    }\n",
       "\n",
       "    .dataframe thead th {\n",
       "        text-align: right;\n",
       "    }\n",
       "</style>\n",
       "<table border=\"1\" class=\"dataframe\">\n",
       "  <thead>\n",
       "    <tr style=\"text-align: right;\">\n",
       "      <th></th>\n",
       "      <th>fl_date</th>\n",
       "      <th>arr_delay</th>\n",
       "      <th>flights</th>\n",
       "    </tr>\n",
       "  </thead>\n",
       "  <tbody>\n",
       "    <tr>\n",
       "      <th>0</th>\n",
       "      <td>2018-12-05</td>\n",
       "      <td>-9.0</td>\n",
       "      <td>1.0</td>\n",
       "    </tr>\n",
       "    <tr>\n",
       "      <th>1</th>\n",
       "      <td>2019-10-30</td>\n",
       "      <td>-16.0</td>\n",
       "      <td>1.0</td>\n",
       "    </tr>\n",
       "    <tr>\n",
       "      <th>2</th>\n",
       "      <td>2019-04-14</td>\n",
       "      <td>52.0</td>\n",
       "      <td>1.0</td>\n",
       "    </tr>\n",
       "    <tr>\n",
       "      <th>3</th>\n",
       "      <td>2019-03-07</td>\n",
       "      <td>-9.0</td>\n",
       "      <td>1.0</td>\n",
       "    </tr>\n",
       "    <tr>\n",
       "      <th>4</th>\n",
       "      <td>2019-09-10</td>\n",
       "      <td>-14.0</td>\n",
       "      <td>1.0</td>\n",
       "    </tr>\n",
       "  </tbody>\n",
       "</table>\n",
       "</div>"
      ],
      "text/plain": [
       "      fl_date  arr_delay  flights\n",
       "0  2018-12-05       -9.0      1.0\n",
       "1  2019-10-30      -16.0      1.0\n",
       "2  2019-04-14       52.0      1.0\n",
       "3  2019-03-07       -9.0      1.0\n",
       "4  2019-09-10      -14.0      1.0"
      ]
     },
     "execution_count": 13,
     "metadata": {},
     "output_type": "execute_result"
    }
   ],
   "source": [
    "month_df = pd.read_csv('Project_Files/month_delay.csv', sep=',')\n",
    "month_df = month_df.drop(columns = 'Unnamed: 0')\n",
    "month_df.head()"
   ]
  },
  {
   "cell_type": "code",
   "execution_count": 14,
   "metadata": {},
   "outputs": [],
   "source": [
    "month_df['fl_date'] = pd.to_datetime(month_df['fl_date'])"
   ]
  },
  {
   "cell_type": "code",
   "execution_count": 15,
   "metadata": {},
   "outputs": [
    {
     "data": {
      "text/plain": [
       "fl_date      datetime64[ns]\n",
       "arr_delay           float64\n",
       "flights             float64\n",
       "dtype: object"
      ]
     },
     "execution_count": 15,
     "metadata": {},
     "output_type": "execute_result"
    }
   ],
   "source": [
    "month_df.dtypes"
   ]
  },
  {
   "cell_type": "code",
   "execution_count": 16,
   "metadata": {},
   "outputs": [],
   "source": [
    "month_df['fl_month'] = month_df['fl_date'].dt.month"
   ]
  },
  {
   "cell_type": "code",
   "execution_count": 17,
   "metadata": {},
   "outputs": [],
   "source": [
    "avg_delay_mth = month_df.groupby('fl_month')['arr_delay'].mean()\n",
    "num_flights_mth = month_df.groupby('fl_month')['flights'].sum()"
   ]
  },
  {
   "cell_type": "markdown",
   "metadata": {},
   "source": [
    "Summer months are busier and seem to have more delays. "
   ]
  },
  {
   "cell_type": "code",
   "execution_count": 18,
   "metadata": {},
   "outputs": [
    {
     "data": {
      "image/png": "[encoded data removed]",
      "text/plain": [
       "<Figure size 432x288 with 1 Axes>"
      ]
     },
     "metadata": {
      "needs_background": "light"
     },
     "output_type": "display_data"
    },
    {
     "data": {
      "image/png": "[encoded data removed]",
      "text/plain": [
       "<Figure size 432x288 with 1 Axes>"
      ]
     },
     "metadata": {
      "needs_background": "light"
     },
     "output_type": "display_data"
    }
   ],
   "source": [
    "plt.plot(avg_delay_mth.index, avg_delay_mth.values)\n",
    "plt.xlabel('month')\n",
    "plt.ylabel('average delay')\n",
    "plt.title('Average flight delay per month')\n",
    "plt.show()\n",
    "\n",
    "plt.plot(num_flights_mth.index, num_flights_mth.values)\n",
    "plt.xlabel('month')\n",
    "plt.ylabel('Number of flights')\n",
    "plt.title('Number of flights per month')\n",
    "plt.show()"
   ]
  },
  {
   "cell_type": "code",
   "execution_count": 21,
   "metadata": {},
   "outputs": [
    {
     "data": {
      "text/html": [
       "<div>\n",
       "<style scoped>\n",
       "    .dataframe tbody tr th:only-of-type {\n",
       "        vertical-align: middle;\n",
       "    }\n",
       "\n",
       "    .dataframe tbody tr th {\n",
       "        vertical-align: top;\n",
       "    }\n",
       "\n",
       "    .dataframe thead th {\n",
       "        text-align: right;\n",
       "    }\n",
       "</style>\n",
       "<table border=\"1\" class=\"dataframe\">\n",
       "  <thead>\n",
       "    <tr style=\"text-align: right;\">\n",
       "      <th></th>\n",
       "      <th>arr_delay</th>\n",
       "      <th>flights</th>\n",
       "    </tr>\n",
       "    <tr>\n",
       "      <th>fl_month</th>\n",
       "      <th></th>\n",
       "      <th></th>\n",
       "    </tr>\n",
       "  </thead>\n",
       "  <tbody>\n",
       "    <tr>\n",
       "      <th>1</th>\n",
       "      <td>-6.0</td>\n",
       "      <td>1.0</td>\n",
       "    </tr>\n",
       "    <tr>\n",
       "      <th>2</th>\n",
       "      <td>-5.0</td>\n",
       "      <td>1.0</td>\n",
       "    </tr>\n",
       "    <tr>\n",
       "      <th>3</th>\n",
       "      <td>-7.0</td>\n",
       "      <td>1.0</td>\n",
       "    </tr>\n",
       "    <tr>\n",
       "      <th>4</th>\n",
       "      <td>-6.0</td>\n",
       "      <td>1.0</td>\n",
       "    </tr>\n",
       "    <tr>\n",
       "      <th>5</th>\n",
       "      <td>-6.0</td>\n",
       "      <td>1.0</td>\n",
       "    </tr>\n",
       "    <tr>\n",
       "      <th>6</th>\n",
       "      <td>-4.0</td>\n",
       "      <td>1.0</td>\n",
       "    </tr>\n",
       "    <tr>\n",
       "      <th>7</th>\n",
       "      <td>-6.0</td>\n",
       "      <td>1.0</td>\n",
       "    </tr>\n",
       "    <tr>\n",
       "      <th>8</th>\n",
       "      <td>-5.0</td>\n",
       "      <td>1.0</td>\n",
       "    </tr>\n",
       "    <tr>\n",
       "      <th>9</th>\n",
       "      <td>-8.0</td>\n",
       "      <td>1.0</td>\n",
       "    </tr>\n",
       "    <tr>\n",
       "      <th>10</th>\n",
       "      <td>-5.0</td>\n",
       "      <td>1.0</td>\n",
       "    </tr>\n",
       "    <tr>\n",
       "      <th>11</th>\n",
       "      <td>-6.0</td>\n",
       "      <td>1.0</td>\n",
       "    </tr>\n",
       "    <tr>\n",
       "      <th>12</th>\n",
       "      <td>-5.0</td>\n",
       "      <td>1.0</td>\n",
       "    </tr>\n",
       "  </tbody>\n",
       "</table>\n",
       "</div>"
      ],
      "text/plain": [
       "          arr_delay  flights\n",
       "fl_month                    \n",
       "1              -6.0      1.0\n",
       "2              -5.0      1.0\n",
       "3              -7.0      1.0\n",
       "4              -6.0      1.0\n",
       "5              -6.0      1.0\n",
       "6              -4.0      1.0\n",
       "7              -6.0      1.0\n",
       "8              -5.0      1.0\n",
       "9              -8.0      1.0\n",
       "10             -5.0      1.0\n",
       "11             -6.0      1.0\n",
       "12             -5.0      1.0"
      ]
     },
     "execution_count": 21,
     "metadata": {},
     "output_type": "execute_result"
    }
   ],
   "source": [
    "month_df.groupby('fl_month').median()"
   ]
  },
  {
   "cell_type": "code",
   "execution_count": 25,
   "metadata": {},
   "outputs": [
    {
     "data": {
      "text/html": [
       "<div>\n",
       "<style scoped>\n",
       "    .dataframe tbody tr th:only-of-type {\n",
       "        vertical-align: middle;\n",
       "    }\n",
       "\n",
       "    .dataframe tbody tr th {\n",
       "        vertical-align: top;\n",
       "    }\n",
       "\n",
       "    .dataframe thead th {\n",
       "        text-align: right;\n",
       "    }\n",
       "</style>\n",
       "<table border=\"1\" class=\"dataframe\">\n",
       "  <thead>\n",
       "    <tr style=\"text-align: right;\">\n",
       "      <th></th>\n",
       "      <th>arr_delay</th>\n",
       "      <th>flights</th>\n",
       "      <th>fl_month</th>\n",
       "    </tr>\n",
       "  </thead>\n",
       "  <tbody>\n",
       "    <tr>\n",
       "      <th>count</th>\n",
       "      <td>9818.000000</td>\n",
       "      <td>10000.0</td>\n",
       "      <td>10000.00000</td>\n",
       "    </tr>\n",
       "    <tr>\n",
       "      <th>mean</th>\n",
       "      <td>5.817071</td>\n",
       "      <td>1.0</td>\n",
       "      <td>6.63870</td>\n",
       "    </tr>\n",
       "    <tr>\n",
       "      <th>std</th>\n",
       "      <td>49.039556</td>\n",
       "      <td>0.0</td>\n",
       "      <td>3.38383</td>\n",
       "    </tr>\n",
       "    <tr>\n",
       "      <th>min</th>\n",
       "      <td>-60.000000</td>\n",
       "      <td>1.0</td>\n",
       "      <td>1.00000</td>\n",
       "    </tr>\n",
       "    <tr>\n",
       "      <th>25%</th>\n",
       "      <td>-14.750000</td>\n",
       "      <td>1.0</td>\n",
       "      <td>4.00000</td>\n",
       "    </tr>\n",
       "    <tr>\n",
       "      <th>50%</th>\n",
       "      <td>-6.000000</td>\n",
       "      <td>1.0</td>\n",
       "      <td>7.00000</td>\n",
       "    </tr>\n",
       "    <tr>\n",
       "      <th>75%</th>\n",
       "      <td>7.000000</td>\n",
       "      <td>1.0</td>\n",
       "      <td>10.00000</td>\n",
       "    </tr>\n",
       "    <tr>\n",
       "      <th>max</th>\n",
       "      <td>1081.000000</td>\n",
       "      <td>1.0</td>\n",
       "      <td>12.00000</td>\n",
       "    </tr>\n",
       "  </tbody>\n",
       "</table>\n",
       "</div>"
      ],
      "text/plain": [
       "         arr_delay  flights     fl_month\n",
       "count  9818.000000  10000.0  10000.00000\n",
       "mean      5.817071      1.0      6.63870\n",
       "std      49.039556      0.0      3.38383\n",
       "min     -60.000000      1.0      1.00000\n",
       "25%     -14.750000      1.0      4.00000\n",
       "50%      -6.000000      1.0      7.00000\n",
       "75%       7.000000      1.0     10.00000\n",
       "max    1081.000000      1.0     12.00000"
      ]
     },
     "execution_count": 25,
     "metadata": {},
     "output_type": "execute_result"
    }
   ],
   "source": [
    "month_df.describe()"
   ]
  },
  {
   "cell_type": "code",
   "execution_count": 24,
   "metadata": {},
   "outputs": [
    {
     "data": {
      "text/plain": [
       "(10000, 4)"
      ]
     },
     "execution_count": 24,
     "metadata": {},
     "output_type": "execute_result"
    }
   ],
   "source": [
    "month_df.shape"
   ]
  },
  {
   "cell_type": "markdown",
   "metadata": {},
   "source": [
    "#### **Task 3**: Does the weather affect the delay? \n",
    "Use the API to pull the weather information for flights. There is no need to get weather for ALL flights. We can choose the right representative sample. Let's focus on four weather types:\n",
    "- sunny\n",
    "- cloudy\n",
    "- rainy\n",
    "- snow.\n",
    "Test the hypothesis that these 4 delays are from the same distribution. If they are not, which ones are significantly different?"
   ]
  },
  {
   "cell_type": "code",
   "execution_count": 26,
   "metadata": {},
   "outputs": [],
   "source": [
    "df = pd.read_csv('Project_Files/raw_data100k.csv')"
   ]
  },
  {
   "cell_type": "code",
   "execution_count": 35,
   "metadata": {},
   "outputs": [],
   "source": [
    "weather_df = pd.read_csv('Project_Files/weather_data.csv')\n",
    "weather_df = weather_df.rename(columns ={'airport': 'dest'})"
   ]
  },
  {
   "cell_type": "code",
   "execution_count": 36,
   "metadata": {},
   "outputs": [],
   "source": [
    "weather_df = pd.merge(df, weather_df, on=[\"fl_date\", \"dest\"], how = 'inner')"
   ]
  },
  {
   "cell_type": "code",
   "execution_count": 37,
   "metadata": {},
   "outputs": [],
   "source": [
    "weather_df = weather_df[['fl_date', 'arr_delay', 'weather']]"
   ]
  },
  {
   "cell_type": "code",
   "execution_count": 39,
   "metadata": {},
   "outputs": [],
   "source": [
    "weather_df = weather_df.groupby('weather')['arr_delay'].agg(Mean='mean', Median='median', Min = 'min', Max=max)\n"
   ]
  },
  {
   "cell_type": "code",
   "execution_count": 40,
   "metadata": {},
   "outputs": [
    {
     "data": {
      "text/html": [
       "<div>\n",
       "<style scoped>\n",
       "    .dataframe tbody tr th:only-of-type {\n",
       "        vertical-align: middle;\n",
       "    }\n",
       "\n",
       "    .dataframe tbody tr th {\n",
       "        vertical-align: top;\n",
       "    }\n",
       "\n",
       "    .dataframe thead th {\n",
       "        text-align: right;\n",
       "    }\n",
       "</style>\n",
       "<table border=\"1\" class=\"dataframe\">\n",
       "  <thead>\n",
       "    <tr style=\"text-align: right;\">\n",
       "      <th></th>\n",
       "      <th>Mean</th>\n",
       "      <th>Median</th>\n",
       "      <th>Min</th>\n",
       "      <th>Max</th>\n",
       "    </tr>\n",
       "    <tr>\n",
       "      <th>weather</th>\n",
       "      <th></th>\n",
       "      <th></th>\n",
       "      <th></th>\n",
       "      <th></th>\n",
       "    </tr>\n",
       "  </thead>\n",
       "  <tbody>\n",
       "    <tr>\n",
       "      <th>cloudy</th>\n",
       "      <td>1.374785</td>\n",
       "      <td>-8.0</td>\n",
       "      <td>-73.0</td>\n",
       "      <td>981.0</td>\n",
       "    </tr>\n",
       "    <tr>\n",
       "      <th>rainy</th>\n",
       "      <td>10.514902</td>\n",
       "      <td>-3.0</td>\n",
       "      <td>-58.0</td>\n",
       "      <td>1268.0</td>\n",
       "    </tr>\n",
       "    <tr>\n",
       "      <th>snow</th>\n",
       "      <td>20.654088</td>\n",
       "      <td>-2.0</td>\n",
       "      <td>-63.0</td>\n",
       "      <td>922.0</td>\n",
       "    </tr>\n",
       "    <tr>\n",
       "      <th>sunny</th>\n",
       "      <td>-2.934949</td>\n",
       "      <td>-9.0</td>\n",
       "      <td>-54.0</td>\n",
       "      <td>933.0</td>\n",
       "    </tr>\n",
       "    <tr>\n",
       "      <th>wind</th>\n",
       "      <td>0.516845</td>\n",
       "      <td>-9.0</td>\n",
       "      <td>-61.0</td>\n",
       "      <td>1058.0</td>\n",
       "    </tr>\n",
       "  </tbody>\n",
       "</table>\n",
       "</div>"
      ],
      "text/plain": [
       "              Mean  Median   Min     Max\n",
       "weather                                 \n",
       "cloudy    1.374785    -8.0 -73.0   981.0\n",
       "rainy    10.514902    -3.0 -58.0  1268.0\n",
       "snow     20.654088    -2.0 -63.0   922.0\n",
       "sunny    -2.934949    -9.0 -54.0   933.0\n",
       "wind      0.516845    -9.0 -61.0  1058.0"
      ]
     },
     "execution_count": 40,
     "metadata": {},
     "output_type": "execute_result"
    }
   ],
   "source": [
    "weather_df"
   ]
  },
  {
   "cell_type": "code",
   "execution_count": null,
   "metadata": {},
   "outputs": [],
   "source": []
  },
  {
   "cell_type": "code",
   "execution_count": null,
   "metadata": {},
   "outputs": [],
   "source": []
  },
  {
   "cell_type": "markdown",
   "metadata": {},
   "source": [
    "#### **Task 4**: How are taxi times changing during the day? Does higher traffic lead to bigger taxi times?"
   ]
  },
  {
   "cell_type": "code",
   "execution_count": 41,
   "metadata": {},
   "outputs": [
    {
     "data": {
      "text/html": [
       "<div>\n",
       "<style scoped>\n",
       "    .dataframe tbody tr th:only-of-type {\n",
       "        vertical-align: middle;\n",
       "    }\n",
       "\n",
       "    .dataframe tbody tr th {\n",
       "        vertical-align: top;\n",
       "    }\n",
       "\n",
       "    .dataframe thead th {\n",
       "        text-align: right;\n",
       "    }\n",
       "</style>\n",
       "<table border=\"1\" class=\"dataframe\">\n",
       "  <thead>\n",
       "    <tr style=\"text-align: right;\">\n",
       "      <th></th>\n",
       "      <th>fl_date</th>\n",
       "      <th>mkt_unique_carrier</th>\n",
       "      <th>branded_code_share</th>\n",
       "      <th>mkt_carrier</th>\n",
       "      <th>mkt_carrier_fl_num</th>\n",
       "      <th>op_unique_carrier</th>\n",
       "      <th>tail_num</th>\n",
       "      <th>op_carrier_fl_num</th>\n",
       "      <th>origin_airport_id</th>\n",
       "      <th>origin</th>\n",
       "      <th>...</th>\n",
       "      <th>distance</th>\n",
       "      <th>carrier_delay</th>\n",
       "      <th>weather_delay</th>\n",
       "      <th>nas_delay</th>\n",
       "      <th>security_delay</th>\n",
       "      <th>late_aircraft_delay</th>\n",
       "      <th>first_dep_time</th>\n",
       "      <th>total_add_gtime</th>\n",
       "      <th>longest_add_gtime</th>\n",
       "      <th>no_name</th>\n",
       "    </tr>\n",
       "  </thead>\n",
       "  <tbody>\n",
       "    <tr>\n",
       "      <th>0</th>\n",
       "      <td>2018-06-18</td>\n",
       "      <td>DL</td>\n",
       "      <td>DL</td>\n",
       "      <td>DL</td>\n",
       "      <td>2653</td>\n",
       "      <td>DL</td>\n",
       "      <td>N321US</td>\n",
       "      <td>2653</td>\n",
       "      <td>14492</td>\n",
       "      <td>RDU</td>\n",
       "      <td>...</td>\n",
       "      <td>356.0</td>\n",
       "      <td>NaN</td>\n",
       "      <td>NaN</td>\n",
       "      <td>NaN</td>\n",
       "      <td>NaN</td>\n",
       "      <td>NaN</td>\n",
       "      <td>NaN</td>\n",
       "      <td>NaN</td>\n",
       "      <td>NaN</td>\n",
       "      <td>NaN</td>\n",
       "    </tr>\n",
       "    <tr>\n",
       "      <th>1</th>\n",
       "      <td>2019-11-30</td>\n",
       "      <td>DL</td>\n",
       "      <td>DL_CODESHARE</td>\n",
       "      <td>DL</td>\n",
       "      <td>5211</td>\n",
       "      <td>9E</td>\n",
       "      <td>N8980A</td>\n",
       "      <td>5211</td>\n",
       "      <td>13487</td>\n",
       "      <td>MSP</td>\n",
       "      <td>...</td>\n",
       "      <td>175.0</td>\n",
       "      <td>0.0</td>\n",
       "      <td>0.0</td>\n",
       "      <td>29.0</td>\n",
       "      <td>0.0</td>\n",
       "      <td>0.0</td>\n",
       "      <td>NaN</td>\n",
       "      <td>NaN</td>\n",
       "      <td>NaN</td>\n",
       "      <td>NaN</td>\n",
       "    </tr>\n",
       "    <tr>\n",
       "      <th>2</th>\n",
       "      <td>2018-10-23</td>\n",
       "      <td>AA</td>\n",
       "      <td>AA_CODESHARE</td>\n",
       "      <td>AA</td>\n",
       "      <td>4715</td>\n",
       "      <td>YX</td>\n",
       "      <td>N124HQ</td>\n",
       "      <td>4715</td>\n",
       "      <td>14576</td>\n",
       "      <td>ROC</td>\n",
       "      <td>...</td>\n",
       "      <td>573.0</td>\n",
       "      <td>NaN</td>\n",
       "      <td>NaN</td>\n",
       "      <td>NaN</td>\n",
       "      <td>NaN</td>\n",
       "      <td>NaN</td>\n",
       "      <td>NaN</td>\n",
       "      <td>NaN</td>\n",
       "      <td>NaN</td>\n",
       "      <td>NaN</td>\n",
       "    </tr>\n",
       "    <tr>\n",
       "      <th>3</th>\n",
       "      <td>2019-04-29</td>\n",
       "      <td>AA</td>\n",
       "      <td>AA</td>\n",
       "      <td>AA</td>\n",
       "      <td>2807</td>\n",
       "      <td>AA</td>\n",
       "      <td>N957AN</td>\n",
       "      <td>2807</td>\n",
       "      <td>13303</td>\n",
       "      <td>MIA</td>\n",
       "      <td>...</td>\n",
       "      <td>204.0</td>\n",
       "      <td>21.0</td>\n",
       "      <td>0.0</td>\n",
       "      <td>9.0</td>\n",
       "      <td>0.0</td>\n",
       "      <td>0.0</td>\n",
       "      <td>NaN</td>\n",
       "      <td>NaN</td>\n",
       "      <td>NaN</td>\n",
       "      <td>NaN</td>\n",
       "    </tr>\n",
       "    <tr>\n",
       "      <th>4</th>\n",
       "      <td>2018-07-17</td>\n",
       "      <td>UA</td>\n",
       "      <td>UA_CODESHARE</td>\n",
       "      <td>UA</td>\n",
       "      <td>5698</td>\n",
       "      <td>OO</td>\n",
       "      <td>N925EV</td>\n",
       "      <td>5698</td>\n",
       "      <td>13930</td>\n",
       "      <td>ORD</td>\n",
       "      <td>...</td>\n",
       "      <td>84.0</td>\n",
       "      <td>0.0</td>\n",
       "      <td>0.0</td>\n",
       "      <td>0.0</td>\n",
       "      <td>0.0</td>\n",
       "      <td>44.0</td>\n",
       "      <td>NaN</td>\n",
       "      <td>NaN</td>\n",
       "      <td>NaN</td>\n",
       "      <td>NaN</td>\n",
       "    </tr>\n",
       "  </tbody>\n",
       "</table>\n",
       "<p>5 rows × 42 columns</p>\n",
       "</div>"
      ],
      "text/plain": [
       "      fl_date mkt_unique_carrier branded_code_share mkt_carrier  \\\n",
       "0  2018-06-18                 DL                 DL          DL   \n",
       "1  2019-11-30                 DL       DL_CODESHARE          DL   \n",
       "2  2018-10-23                 AA       AA_CODESHARE          AA   \n",
       "3  2019-04-29                 AA                 AA          AA   \n",
       "4  2018-07-17                 UA       UA_CODESHARE          UA   \n",
       "\n",
       "   mkt_carrier_fl_num op_unique_carrier tail_num  op_carrier_fl_num  \\\n",
       "0                2653                DL   N321US               2653   \n",
       "1                5211                9E   N8980A               5211   \n",
       "2                4715                YX   N124HQ               4715   \n",
       "3                2807                AA   N957AN               2807   \n",
       "4                5698                OO   N925EV               5698   \n",
       "\n",
       "   origin_airport_id origin  ... distance  carrier_delay weather_delay  \\\n",
       "0              14492    RDU  ...    356.0            NaN           NaN   \n",
       "1              13487    MSP  ...    175.0            0.0           0.0   \n",
       "2              14576    ROC  ...    573.0            NaN           NaN   \n",
       "3              13303    MIA  ...    204.0           21.0           0.0   \n",
       "4              13930    ORD  ...     84.0            0.0           0.0   \n",
       "\n",
       "  nas_delay  security_delay  late_aircraft_delay  first_dep_time  \\\n",
       "0       NaN             NaN                  NaN             NaN   \n",
       "1      29.0             0.0                  0.0             NaN   \n",
       "2       NaN             NaN                  NaN             NaN   \n",
       "3       9.0             0.0                  0.0             NaN   \n",
       "4       0.0             0.0                 44.0             NaN   \n",
       "\n",
       "   total_add_gtime  longest_add_gtime  no_name  \n",
       "0              NaN                NaN      NaN  \n",
       "1              NaN                NaN      NaN  \n",
       "2              NaN                NaN      NaN  \n",
       "3              NaN                NaN      NaN  \n",
       "4              NaN                NaN      NaN  \n",
       "\n",
       "[5 rows x 42 columns]"
      ]
     },
     "execution_count": 41,
     "metadata": {},
     "output_type": "execute_result"
    }
   ],
   "source": [
    "sample_df = pd.read_csv('Project_Files/sample.csv', sep=',')\n",
    "sample_df = sample_df.drop(columns=['Unnamed: 0'])\n",
    "sample_df.head()"
   ]
  },
  {
   "cell_type": "code",
   "execution_count": 42,
   "metadata": {},
   "outputs": [],
   "source": [
    "sample_df['fl_date'] = pd.to_datetime(sample_df['fl_date'])"
   ]
  },
  {
   "cell_type": "code",
   "execution_count": 43,
   "metadata": {},
   "outputs": [
    {
     "data": {
      "text/html": [
       "<div>\n",
       "<style scoped>\n",
       "    .dataframe tbody tr th:only-of-type {\n",
       "        vertical-align: middle;\n",
       "    }\n",
       "\n",
       "    .dataframe tbody tr th {\n",
       "        vertical-align: top;\n",
       "    }\n",
       "\n",
       "    .dataframe thead th {\n",
       "        text-align: right;\n",
       "    }\n",
       "</style>\n",
       "<table border=\"1\" class=\"dataframe\">\n",
       "  <thead>\n",
       "    <tr style=\"text-align: right;\">\n",
       "      <th></th>\n",
       "      <th>fl_date</th>\n",
       "      <th>crs_dep_time</th>\n",
       "      <th>dep_time</th>\n",
       "      <th>taxi_out</th>\n",
       "      <th>taxi_in</th>\n",
       "      <th>crs_arr_time</th>\n",
       "      <th>arr_time</th>\n",
       "      <th>flights</th>\n",
       "    </tr>\n",
       "  </thead>\n",
       "  <tbody>\n",
       "    <tr>\n",
       "      <th>80580</th>\n",
       "      <td>2018-01-01</td>\n",
       "      <td>530</td>\n",
       "      <td>533.0</td>\n",
       "      <td>13.0</td>\n",
       "      <td>3.0</td>\n",
       "      <td>825</td>\n",
       "      <td>811.0</td>\n",
       "      <td>1.0</td>\n",
       "    </tr>\n",
       "    <tr>\n",
       "      <th>14804</th>\n",
       "      <td>2018-01-01</td>\n",
       "      <td>540</td>\n",
       "      <td>540.0</td>\n",
       "      <td>25.0</td>\n",
       "      <td>5.0</td>\n",
       "      <td>1145</td>\n",
       "      <td>1148.0</td>\n",
       "      <td>1.0</td>\n",
       "    </tr>\n",
       "    <tr>\n",
       "      <th>85278</th>\n",
       "      <td>2018-01-01</td>\n",
       "      <td>550</td>\n",
       "      <td>549.0</td>\n",
       "      <td>18.0</td>\n",
       "      <td>9.0</td>\n",
       "      <td>728</td>\n",
       "      <td>716.0</td>\n",
       "      <td>1.0</td>\n",
       "    </tr>\n",
       "    <tr>\n",
       "      <th>50962</th>\n",
       "      <td>2018-01-01</td>\n",
       "      <td>555</td>\n",
       "      <td>554.0</td>\n",
       "      <td>25.0</td>\n",
       "      <td>3.0</td>\n",
       "      <td>655</td>\n",
       "      <td>703.0</td>\n",
       "      <td>1.0</td>\n",
       "    </tr>\n",
       "    <tr>\n",
       "      <th>23572</th>\n",
       "      <td>2018-01-01</td>\n",
       "      <td>1630</td>\n",
       "      <td>556.0</td>\n",
       "      <td>37.0</td>\n",
       "      <td>4.0</td>\n",
       "      <td>1930</td>\n",
       "      <td>856.0</td>\n",
       "      <td>1.0</td>\n",
       "    </tr>\n",
       "  </tbody>\n",
       "</table>\n",
       "</div>"
      ],
      "text/plain": [
       "         fl_date  crs_dep_time  dep_time  taxi_out  taxi_in  crs_arr_time  \\\n",
       "80580 2018-01-01           530     533.0      13.0      3.0           825   \n",
       "14804 2018-01-01           540     540.0      25.0      5.0          1145   \n",
       "85278 2018-01-01           550     549.0      18.0      9.0           728   \n",
       "50962 2018-01-01           555     554.0      25.0      3.0           655   \n",
       "23572 2018-01-01          1630     556.0      37.0      4.0          1930   \n",
       "\n",
       "       arr_time  flights  \n",
       "80580     811.0      1.0  \n",
       "14804    1148.0      1.0  \n",
       "85278     716.0      1.0  \n",
       "50962     703.0      1.0  \n",
       "23572     856.0      1.0  "
      ]
     },
     "execution_count": 43,
     "metadata": {},
     "output_type": "execute_result"
    }
   ],
   "source": [
    "taxi_df = sample_df[['fl_date', 'crs_dep_time', 'dep_time', 'taxi_out', 'taxi_in', 'crs_arr_time', 'arr_time', 'flights']]\n",
    "taxi_df = taxi_df.sort_values(['fl_date', 'dep_time'])\n",
    "taxi_df.head()"
   ]
  },
  {
   "cell_type": "code",
   "execution_count": 44,
   "metadata": {},
   "outputs": [
    {
     "data": {
      "text/plain": [
       "fl_date         datetime64[ns]\n",
       "crs_dep_time             int64\n",
       "dep_time               float64\n",
       "taxi_out               float64\n",
       "taxi_in                float64\n",
       "crs_arr_time             int64\n",
       "arr_time               float64\n",
       "flights                float64\n",
       "dtype: object"
      ]
     },
     "execution_count": 44,
     "metadata": {},
     "output_type": "execute_result"
    }
   ],
   "source": [
    "taxi_df.dtypes"
   ]
  },
  {
   "cell_type": "code",
   "execution_count": 45,
   "metadata": {},
   "outputs": [
    {
     "data": {
      "text/plain": [
       "<AxesSubplot:xlabel='dep_time', ylabel='taxi_out'>"
      ]
     },
     "execution_count": 45,
     "metadata": {},
     "output_type": "execute_result"
    },
    {
     "data": {
      "image/png": "[encoded data removed]",
      "text/plain": [
       "<Figure size 432x288 with 1 Axes>"
      ]
     },
     "metadata": {
      "needs_background": "light"
     },
     "output_type": "display_data"
    }
   ],
   "source": [
    "sns.scatterplot(x='dep_time', y='taxi_out', data=taxi_df)"
   ]
  },
  {
   "cell_type": "code",
   "execution_count": 46,
   "metadata": {},
   "outputs": [
    {
     "data": {
      "text/plain": [
       "<AxesSubplot:xlabel='arr_time', ylabel='taxi_in'>"
      ]
     },
     "execution_count": 46,
     "metadata": {},
     "output_type": "execute_result"
    },
    {
     "data": {
      "image/png": "[encoded data removed]",
      "text/plain": [
       "<Figure size 432x288 with 1 Axes>"
      ]
     },
     "metadata": {
      "needs_background": "light"
     },
     "output_type": "display_data"
    }
   ],
   "source": [
    "sns.scatterplot(x='arr_time', y='taxi_in', data=taxi_df)"
   ]
  },
  {
   "cell_type": "markdown",
   "metadata": {},
   "source": [
    "# do sum of flights per hour relative to mean of taxi_in per hour"
   ]
  },
  {
   "cell_type": "code",
   "execution_count": 47,
   "metadata": {},
   "outputs": [],
   "source": [
    "mean_taxi_out = taxi_df.groupby(taxi_df['dep_time']//100 * 100)['taxi_out'].mean()\n",
    "mean_taxi_in = taxi_df.groupby(taxi_df['arr_time']//100 * 100)['taxi_in'].mean()\n",
    "flights_per_hour = taxi_df.groupby(taxi_df['dep_time']//100 * 100)['flights'].sum()"
   ]
  },
  {
   "cell_type": "code",
   "execution_count": 48,
   "metadata": {},
   "outputs": [
    {
     "data": {
      "text/plain": [
       "pandas.core.series.Series"
      ]
     },
     "execution_count": 48,
     "metadata": {},
     "output_type": "execute_result"
    }
   ],
   "source": [
    "type(flights_per_hour)"
   ]
  },
  {
   "cell_type": "code",
   "execution_count": 49,
   "metadata": {},
   "outputs": [
    {
     "data": {
      "text/html": [
       "<div>\n",
       "<style scoped>\n",
       "    .dataframe tbody tr th:only-of-type {\n",
       "        vertical-align: middle;\n",
       "    }\n",
       "\n",
       "    .dataframe tbody tr th {\n",
       "        vertical-align: top;\n",
       "    }\n",
       "\n",
       "    .dataframe thead th {\n",
       "        text-align: right;\n",
       "    }\n",
       "</style>\n",
       "<table border=\"1\" class=\"dataframe\">\n",
       "  <thead>\n",
       "    <tr style=\"text-align: right;\">\n",
       "      <th></th>\n",
       "      <th>taxi_out</th>\n",
       "      <th>taxi_in</th>\n",
       "      <th>Flights</th>\n",
       "    </tr>\n",
       "  </thead>\n",
       "  <tbody>\n",
       "    <tr>\n",
       "      <th>0.0</th>\n",
       "      <td>15.943205</td>\n",
       "      <td>7.202149</td>\n",
       "      <td>493.0</td>\n",
       "    </tr>\n",
       "    <tr>\n",
       "      <th>100.0</th>\n",
       "      <td>15.000000</td>\n",
       "      <td>7.291096</td>\n",
       "      <td>202.0</td>\n",
       "    </tr>\n",
       "    <tr>\n",
       "      <th>200.0</th>\n",
       "      <td>13.840909</td>\n",
       "      <td>6.704545</td>\n",
       "      <td>44.0</td>\n",
       "    </tr>\n",
       "    <tr>\n",
       "      <th>300.0</th>\n",
       "      <td>13.621622</td>\n",
       "      <td>8.137255</td>\n",
       "      <td>37.0</td>\n",
       "    </tr>\n",
       "    <tr>\n",
       "      <th>400.0</th>\n",
       "      <td>15.376000</td>\n",
       "      <td>6.642276</td>\n",
       "      <td>250.0</td>\n",
       "    </tr>\n",
       "    <tr>\n",
       "      <th>500.0</th>\n",
       "      <td>17.216847</td>\n",
       "      <td>7.790030</td>\n",
       "      <td>3597.0</td>\n",
       "    </tr>\n",
       "    <tr>\n",
       "      <th>600.0</th>\n",
       "      <td>17.851240</td>\n",
       "      <td>7.911345</td>\n",
       "      <td>6050.0</td>\n",
       "    </tr>\n",
       "    <tr>\n",
       "      <th>700.0</th>\n",
       "      <td>18.981885</td>\n",
       "      <td>8.170366</td>\n",
       "      <td>5964.0</td>\n",
       "    </tr>\n",
       "    <tr>\n",
       "      <th>800.0</th>\n",
       "      <td>20.876662</td>\n",
       "      <td>8.995004</td>\n",
       "      <td>6247.0</td>\n",
       "    </tr>\n",
       "    <tr>\n",
       "      <th>900.0</th>\n",
       "      <td>19.953727</td>\n",
       "      <td>8.468220</td>\n",
       "      <td>5948.0</td>\n",
       "    </tr>\n",
       "    <tr>\n",
       "      <th>1000.0</th>\n",
       "      <td>19.319732</td>\n",
       "      <td>8.080405</td>\n",
       "      <td>6130.0</td>\n",
       "    </tr>\n",
       "    <tr>\n",
       "      <th>1100.0</th>\n",
       "      <td>18.365462</td>\n",
       "      <td>7.480678</td>\n",
       "      <td>6227.0</td>\n",
       "    </tr>\n",
       "    <tr>\n",
       "      <th>1200.0</th>\n",
       "      <td>18.084153</td>\n",
       "      <td>7.644926</td>\n",
       "      <td>6406.0</td>\n",
       "    </tr>\n",
       "    <tr>\n",
       "      <th>1300.0</th>\n",
       "      <td>17.535652</td>\n",
       "      <td>7.530290</td>\n",
       "      <td>5754.0</td>\n",
       "    </tr>\n",
       "    <tr>\n",
       "      <th>1400.0</th>\n",
       "      <td>18.277915</td>\n",
       "      <td>7.704970</td>\n",
       "      <td>6088.0</td>\n",
       "    </tr>\n",
       "    <tr>\n",
       "      <th>1500.0</th>\n",
       "      <td>18.578190</td>\n",
       "      <td>7.673396</td>\n",
       "      <td>6466.0</td>\n",
       "    </tr>\n",
       "    <tr>\n",
       "      <th>1600.0</th>\n",
       "      <td>18.442663</td>\n",
       "      <td>7.574863</td>\n",
       "      <td>6181.0</td>\n",
       "    </tr>\n",
       "    <tr>\n",
       "      <th>1700.0</th>\n",
       "      <td>18.974355</td>\n",
       "      <td>7.949770</td>\n",
       "      <td>6826.0</td>\n",
       "    </tr>\n",
       "    <tr>\n",
       "      <th>1800.0</th>\n",
       "      <td>19.487718</td>\n",
       "      <td>8.238391</td>\n",
       "      <td>6190.0</td>\n",
       "    </tr>\n",
       "    <tr>\n",
       "      <th>1900.0</th>\n",
       "      <td>18.490447</td>\n",
       "      <td>8.758021</td>\n",
       "      <td>6020.0</td>\n",
       "    </tr>\n",
       "    <tr>\n",
       "      <th>2000.0</th>\n",
       "      <td>19.243637</td>\n",
       "      <td>8.658899</td>\n",
       "      <td>5424.0</td>\n",
       "    </tr>\n",
       "    <tr>\n",
       "      <th>2100.0</th>\n",
       "      <td>18.433460</td>\n",
       "      <td>8.171860</td>\n",
       "      <td>3945.0</td>\n",
       "    </tr>\n",
       "    <tr>\n",
       "      <th>2200.0</th>\n",
       "      <td>17.630779</td>\n",
       "      <td>7.957837</td>\n",
       "      <td>3223.0</td>\n",
       "    </tr>\n",
       "    <tr>\n",
       "      <th>2300.0</th>\n",
       "      <td>16.713505</td>\n",
       "      <td>7.282284</td>\n",
       "      <td>1281.0</td>\n",
       "    </tr>\n",
       "    <tr>\n",
       "      <th>2400.0</th>\n",
       "      <td>16.142857</td>\n",
       "      <td>7.734375</td>\n",
       "      <td>7.0</td>\n",
       "    </tr>\n",
       "  </tbody>\n",
       "</table>\n",
       "</div>"
      ],
      "text/plain": [
       "         taxi_out   taxi_in  Flights\n",
       "0.0     15.943205  7.202149    493.0\n",
       "100.0   15.000000  7.291096    202.0\n",
       "200.0   13.840909  6.704545     44.0\n",
       "300.0   13.621622  8.137255     37.0\n",
       "400.0   15.376000  6.642276    250.0\n",
       "500.0   17.216847  7.790030   3597.0\n",
       "600.0   17.851240  7.911345   6050.0\n",
       "700.0   18.981885  8.170366   5964.0\n",
       "800.0   20.876662  8.995004   6247.0\n",
       "900.0   19.953727  8.468220   5948.0\n",
       "1000.0  19.319732  8.080405   6130.0\n",
       "1100.0  18.365462  7.480678   6227.0\n",
       "1200.0  18.084153  7.644926   6406.0\n",
       "1300.0  17.535652  7.530290   5754.0\n",
       "1400.0  18.277915  7.704970   6088.0\n",
       "1500.0  18.578190  7.673396   6466.0\n",
       "1600.0  18.442663  7.574863   6181.0\n",
       "1700.0  18.974355  7.949770   6826.0\n",
       "1800.0  19.487718  8.238391   6190.0\n",
       "1900.0  18.490447  8.758021   6020.0\n",
       "2000.0  19.243637  8.658899   5424.0\n",
       "2100.0  18.433460  8.171860   3945.0\n",
       "2200.0  17.630779  7.957837   3223.0\n",
       "2300.0  16.713505  7.282284   1281.0\n",
       "2400.0  16.142857  7.734375      7.0"
      ]
     },
     "execution_count": 49,
     "metadata": {},
     "output_type": "execute_result"
    }
   ],
   "source": [
    "df_agg = pd.DataFrame({'taxi_out': mean_taxi_out, 'taxi_in': mean_taxi_in, 'Flights': flights_per_hour})\n",
    "df_agg"
   ]
  },
  {
   "cell_type": "code",
   "execution_count": 50,
   "metadata": {},
   "outputs": [
    {
     "data": {
      "text/plain": [
       "Text(0, 0.5, 'Number of Flights')"
      ]
     },
     "execution_count": 50,
     "metadata": {},
     "output_type": "execute_result"
    },
    {
     "data": {
      "image/png": "[encoded data removed]",
      "text/plain": [
       "<Figure size 576x288 with 1 Axes>"
      ]
     },
     "metadata": {
      "needs_background": "light"
     },
     "output_type": "display_data"
    },
    {
     "data": {
      "image/png": "[encoded data removed]",
      "text/plain": [
       "<Figure size 576x288 with 1 Axes>"
      ]
     },
     "metadata": {
      "needs_background": "light"
     },
     "output_type": "display_data"
    }
   ],
   "source": [
    "fix, ax = plt.subplots(figsize=(8,4))\n",
    "ax.plot(df_agg.index, df_agg['taxi_out'], label='taxi_out')\n",
    "ax.plot(df_agg.index, df_agg['taxi_in'], label='taxi_in')\n",
    "ax.legend(loc='best')\n",
    "ax.set_title('Taxi times per hour')\n",
    "ax.set_xlabel('Hour')\n",
    "ax.set_ylabel('Time (minutes)')\n",
    "fix, ax = plt.subplots(figsize=(8,4))\n",
    "ax.plot(df_agg.index, df_agg['Flights'], label='flights')\n",
    "ax.legend(loc='best')\n",
    "ax.set_title('Flights per hour')\n",
    "ax.set_xlabel('Hour')\n",
    "ax.set_ylabel('Number of Flights')"
   ]
  },
  {
   "cell_type": "code",
   "execution_count": null,
   "metadata": {},
   "outputs": [],
   "source": []
  },
  {
   "cell_type": "markdown",
   "metadata": {},
   "source": [
    "#### **Task 5**: What is the average percentage of delays that is already created before departure? (aka are arrival delays caused by departure delays?) Are airlines able to lower the delay during the flights?"
   ]
  },
  {
   "cell_type": "code",
   "execution_count": 51,
   "metadata": {},
   "outputs": [],
   "source": [
    "delays = sample_df[['fl_date', 'crs_dep_time', 'dep_time', 'dep_delay', 'arr_delay', 'actual_elapsed_time', 'crs_arr_time', 'arr_time']]\n",
    "delays = delays.copy()"
   ]
  },
  {
   "cell_type": "code",
   "execution_count": 52,
   "metadata": {},
   "outputs": [],
   "source": [
    "delays = delays.dropna()"
   ]
  },
  {
   "cell_type": "code",
   "execution_count": 54,
   "metadata": {},
   "outputs": [],
   "source": [
    "del1 = delays[['fl_date', 'dep_delay', 'arr_delay']]"
   ]
  },
  {
   "cell_type": "code",
   "execution_count": 55,
   "metadata": {},
   "outputs": [
    {
     "data": {
      "text/plain": [
       "43.65080877169585"
      ]
     },
     "execution_count": 55,
     "metadata": {},
     "output_type": "execute_result"
    }
   ],
   "source": [
    "dep_delayed = del1[del1['dep_delay']>0].shape[0]\n",
    "total = del1.shape[0]\n",
    "percent_delayed_dep = dep_delayed/total * 100\n",
    "percent_delayed_dep"
   ]
  },
  {
   "cell_type": "code",
   "execution_count": 56,
   "metadata": {},
   "outputs": [
    {
     "data": {
      "text/plain": [
       "52.386305180330375"
      ]
     },
     "execution_count": 56,
     "metadata": {},
     "output_type": "execute_result"
    }
   ],
   "source": [
    "arr_delayed = del1[del1['arr_delay']>0].shape[0]\n",
    "total = del1.shape[0]\n",
    "percent_delayed_arr = arr_delayed/total * 100\n",
    "percent_delayed_arr"
   ]
  },
  {
   "cell_type": "code",
   "execution_count": 57,
   "metadata": {},
   "outputs": [],
   "source": [
    "delays.fl_date = delays.fl_date.astype(str)"
   ]
  },
  {
   "cell_type": "code",
   "execution_count": 58,
   "metadata": {},
   "outputs": [
    {
     "data": {
      "text/plain": [
       "fl_date                 object\n",
       "crs_dep_time             int64\n",
       "dep_time               float64\n",
       "dep_delay              float64\n",
       "arr_delay              float64\n",
       "actual_elapsed_time    float64\n",
       "crs_arr_time             int64\n",
       "arr_time               float64\n",
       "dtype: object"
      ]
     },
     "execution_count": 58,
     "metadata": {},
     "output_type": "execute_result"
    }
   ],
   "source": [
    "delays.dtypes"
   ]
  },
  {
   "cell_type": "code",
   "execution_count": 59,
   "metadata": {},
   "outputs": [
    {
     "data": {
      "text/html": [
       "<div>\n",
       "<style scoped>\n",
       "    .dataframe tbody tr th:only-of-type {\n",
       "        vertical-align: middle;\n",
       "    }\n",
       "\n",
       "    .dataframe tbody tr th {\n",
       "        vertical-align: top;\n",
       "    }\n",
       "\n",
       "    .dataframe thead th {\n",
       "        text-align: right;\n",
       "    }\n",
       "</style>\n",
       "<table border=\"1\" class=\"dataframe\">\n",
       "  <thead>\n",
       "    <tr style=\"text-align: right;\">\n",
       "      <th></th>\n",
       "      <th>fl_date</th>\n",
       "      <th>crs_dep_time</th>\n",
       "      <th>dep_time</th>\n",
       "      <th>dep_delay</th>\n",
       "      <th>arr_delay</th>\n",
       "      <th>actual_elapsed_time</th>\n",
       "      <th>crs_arr_time</th>\n",
       "      <th>arr_time</th>\n",
       "    </tr>\n",
       "  </thead>\n",
       "  <tbody>\n",
       "    <tr>\n",
       "      <th>0</th>\n",
       "      <td>2018-06-18</td>\n",
       "      <td>730</td>\n",
       "      <td>723.0</td>\n",
       "      <td>-7.0</td>\n",
       "      <td>3.0</td>\n",
       "      <td>96.0</td>\n",
       "      <td>856</td>\n",
       "      <td>859.0</td>\n",
       "    </tr>\n",
       "    <tr>\n",
       "      <th>1</th>\n",
       "      <td>2019-11-30</td>\n",
       "      <td>1019</td>\n",
       "      <td>1014.0</td>\n",
       "      <td>-5.0</td>\n",
       "      <td>29.0</td>\n",
       "      <td>92.0</td>\n",
       "      <td>1117</td>\n",
       "      <td>1146.0</td>\n",
       "    </tr>\n",
       "    <tr>\n",
       "      <th>2</th>\n",
       "      <td>2018-10-23</td>\n",
       "      <td>1850</td>\n",
       "      <td>1842.0</td>\n",
       "      <td>-8.0</td>\n",
       "      <td>1.0</td>\n",
       "      <td>134.0</td>\n",
       "      <td>2055</td>\n",
       "      <td>2056.0</td>\n",
       "    </tr>\n",
       "    <tr>\n",
       "      <th>3</th>\n",
       "      <td>2019-04-29</td>\n",
       "      <td>1335</td>\n",
       "      <td>1356.0</td>\n",
       "      <td>21.0</td>\n",
       "      <td>30.0</td>\n",
       "      <td>72.0</td>\n",
       "      <td>1438</td>\n",
       "      <td>1508.0</td>\n",
       "    </tr>\n",
       "    <tr>\n",
       "      <th>4</th>\n",
       "      <td>2018-07-17</td>\n",
       "      <td>1944</td>\n",
       "      <td>2035.0</td>\n",
       "      <td>51.0</td>\n",
       "      <td>44.0</td>\n",
       "      <td>44.0</td>\n",
       "      <td>2135</td>\n",
       "      <td>2219.0</td>\n",
       "    </tr>\n",
       "  </tbody>\n",
       "</table>\n",
       "</div>"
      ],
      "text/plain": [
       "      fl_date  crs_dep_time  dep_time  dep_delay  arr_delay  \\\n",
       "0  2018-06-18           730     723.0       -7.0        3.0   \n",
       "1  2019-11-30          1019    1014.0       -5.0       29.0   \n",
       "2  2018-10-23          1850    1842.0       -8.0        1.0   \n",
       "3  2019-04-29          1335    1356.0       21.0       30.0   \n",
       "4  2018-07-17          1944    2035.0       51.0       44.0   \n",
       "\n",
       "   actual_elapsed_time  crs_arr_time  arr_time  \n",
       "0                 96.0           856     859.0  \n",
       "1                 92.0          1117    1146.0  \n",
       "2                134.0          2055    2056.0  \n",
       "3                 72.0          1438    1508.0  \n",
       "4                 44.0          2135    2219.0  "
      ]
     },
     "execution_count": 59,
     "metadata": {},
     "output_type": "execute_result"
    }
   ],
   "source": [
    "delays.head()"
   ]
  },
  {
   "cell_type": "code",
   "execution_count": 60,
   "metadata": {},
   "outputs": [],
   "source": [
    "delays = delays.dropna()"
   ]
  },
  {
   "cell_type": "code",
   "execution_count": 61,
   "metadata": {},
   "outputs": [],
   "source": [
    "delays['dep_time'] = delays['dep_time'].astype(int)\n",
    "delays['arr_time'] = delays['arr_time'].astype(int)"
   ]
  },
  {
   "cell_type": "code",
   "execution_count": 62,
   "metadata": {},
   "outputs": [],
   "source": [
    "delays['crs_dep_time'] = delays['crs_dep_time'].astype(str)\n",
    "delays['crs_arr_time'] = delays['crs_arr_time'].astype(str)\n",
    "delays['dep_time'] = delays['dep_time'].astype(str)\n",
    "delays['arr_time'] = delays['arr_time'].astype(str)"
   ]
  },
  {
   "cell_type": "code",
   "execution_count": 63,
   "metadata": {},
   "outputs": [
    {
     "data": {
      "text/plain": [
       "fl_date                 object\n",
       "crs_dep_time            object\n",
       "dep_time                object\n",
       "dep_delay              float64\n",
       "arr_delay              float64\n",
       "actual_elapsed_time    float64\n",
       "crs_arr_time            object\n",
       "arr_time                object\n",
       "dtype: object"
      ]
     },
     "execution_count": 63,
     "metadata": {},
     "output_type": "execute_result"
    }
   ],
   "source": [
    "delays.dtypes"
   ]
  },
  {
   "cell_type": "code",
   "execution_count": 64,
   "metadata": {},
   "outputs": [],
   "source": [
    "delays['crs_dep_time'] = delays['crs_dep_time'].apply(lambda x: str(x).zfill(4))\n",
    "delays['crs_arr_time'] = delays['crs_arr_time'].apply(lambda x: str(x).zfill(4))\n",
    "delays['dep_time'] = delays['dep_time'].apply(lambda x: str(x).zfill(4))\n",
    "delays['arr_time'] = delays['arr_time'].apply(lambda x: str(x).zfill(4))"
   ]
  },
  {
   "cell_type": "code",
   "execution_count": 65,
   "metadata": {},
   "outputs": [],
   "source": [
    "delays['dep_time_h'] = delays['dep_time'].str[0:2]\n",
    "delays['dep_time_m'] = delays['dep_time'].str[2:]\n",
    "delays['dep_time_h'] = delays['dep_time_h'].replace('24', '00')\n",
    "\n",
    "delays['arr_time_h'] = delays['arr_time'].str[0:2]\n",
    "delays['arr_time_m'] = delays['arr_time'].str[2:]\n",
    "delays['arr_time_h'] = delays['arr_time_h'].replace('24', '00')\n",
    "\n",
    "delays['crs_dep_time_h'] = delays['crs_dep_time'].str[0:2]\n",
    "delays['crs_dep_time_m'] = delays['crs_dep_time'].str[2:]\n",
    "delays['crs_dep_time_h'] = delays['crs_dep_time_h'].replace('24', '00')\n",
    "\n",
    "delays['crs_arr_time_h'] = delays['crs_arr_time'].str[0:2]\n",
    "delays['crs_arr_time_m'] = delays['crs_arr_time'].str[2:]\n",
    "delays['crs_arr_time_h'] = delays['crs_arr_time_h'].replace('24', '00')\n",
    "\n",
    "delays['dep_time'] = delays['dep_time_h']+delays['dep_time_m']\n",
    "delays['arr_time'] = delays['arr_time_h']+delays['arr_time_m']\n",
    "delays['crs_dep_time'] = delays['crs_dep_time_h']+delays['crs_dep_time_m']\n",
    "delays['crs_arr_time'] = delays['crs_arr_time_h']+delays['crs_arr_time_m']"
   ]
  },
  {
   "cell_type": "code",
   "execution_count": 1405,
   "metadata": {},
   "outputs": [],
   "source": [
    "#delays.drop(columns = ['dep_time_h', 'dep_time_m', 'arr_time_h', 'arr_time_m'])"
   ]
  },
  {
   "cell_type": "code",
   "execution_count": 66,
   "metadata": {},
   "outputs": [],
   "source": [
    "delays['crs_dep_time_hour'] = delays['crs_dep_time'].apply(lambda x: dt.datetime.strptime(str(x),  '%H%M').hour)\n",
    "delays['crs_dep_time_min'] = delays['crs_dep_time'].apply(lambda x: dt.datetime.strptime(str(x),  '%H%M').minute)\n",
    "delays['crs_arr_time_hour'] = delays['crs_arr_time'].apply(lambda x: dt.datetime.strptime(str(x),  '%H%M').hour)\n",
    "delays['crs_arr_time_min'] = delays['crs_arr_time'].apply(lambda x: dt.datetime.strptime(str(x),  '%H%M').minute)\n",
    "\n",
    "delays['dep_time_hour'] = delays['dep_time'].apply(lambda x: dt.datetime.strptime(str(x),  '%H%M').hour)\n",
    "delays['dep_time_min'] = delays['dep_time'].apply(lambda x: dt.datetime.strptime(str(x),  '%H%M').minute)\n",
    "delays['arr_time_hour'] = delays['arr_time'].apply(lambda x: dt.datetime.strptime(str(x),  '%H%M').hour)\n",
    "delays['arr_time_min'] = delays['arr_time'].apply(lambda x: dt.datetime.strptime(str(x),  '%H%M').minute)"
   ]
  },
  {
   "cell_type": "code",
   "execution_count": 67,
   "metadata": {},
   "outputs": [],
   "source": [
    "delays['crs_dep_time_hour'] = delays['crs_dep_time_hour'].apply(lambda x: str(x).zfill(2))\n",
    "delays['crs_dep_time_min'] = delays['crs_dep_time_min'].apply(lambda x: str(x).zfill(2))\n",
    "delays['crs_arr_time_hour'] = delays['crs_arr_time_hour'].apply(lambda x: str(x).zfill(2))\n",
    "delays['crs_arr_time_min'] = delays['crs_arr_time_min'].apply(lambda x: str(x).zfill(2))\n",
    "\n",
    "delays['dep_time_hour'] = delays['dep_time_hour'].apply(lambda x: str(x).zfill(2))\n",
    "delays['dep_time_min'] = delays['dep_time_min'].apply(lambda x: str(x).zfill(2))\n",
    "delays['arr_time_hour'] = delays['arr_time_hour'].apply(lambda x: str(x).zfill(2))\n",
    "delays['arr_time_min'] = delays['arr_time_min'].apply(lambda x: str(x).zfill(2))"
   ]
  },
  {
   "cell_type": "code",
   "execution_count": 68,
   "metadata": {},
   "outputs": [],
   "source": [
    "delays['crs_dep_time_2'] = delays['crs_dep_time_hour'].apply(lambda x: str(x)) + ':' + delays['crs_dep_time_min'].apply(lambda x: str(x))\n",
    "delays['crs_arr_time_2'] = delays['crs_arr_time_hour'].apply(lambda x: str(x)) + ':' + delays['crs_arr_time_min'].apply(lambda x: str(x))\n",
    "\n",
    "delays['dep_time_2'] = delays['dep_time_hour'].apply(lambda x: str(x)) + ':' + delays['dep_time_min'].apply(lambda x: str(x))\n",
    "delays['arr_time_2'] = delays['arr_time_hour'].apply(lambda x: str(x)) + ':' + delays['arr_time_min'].apply(lambda x: str(x))"
   ]
  },
  {
   "cell_type": "code",
   "execution_count": 69,
   "metadata": {},
   "outputs": [
    {
     "data": {
      "text/plain": [
       "fl_date                 object\n",
       "crs_dep_time            object\n",
       "dep_time                object\n",
       "dep_delay              float64\n",
       "arr_delay              float64\n",
       "actual_elapsed_time    float64\n",
       "crs_arr_time            object\n",
       "arr_time                object\n",
       "dep_time_h              object\n",
       "dep_time_m              object\n",
       "arr_time_h              object\n",
       "arr_time_m              object\n",
       "crs_dep_time_h          object\n",
       "crs_dep_time_m          object\n",
       "crs_arr_time_h          object\n",
       "crs_arr_time_m          object\n",
       "crs_dep_time_hour       object\n",
       "crs_dep_time_min        object\n",
       "crs_arr_time_hour       object\n",
       "crs_arr_time_min        object\n",
       "dep_time_hour           object\n",
       "dep_time_min            object\n",
       "arr_time_hour           object\n",
       "arr_time_min            object\n",
       "crs_dep_time_2          object\n",
       "crs_arr_time_2          object\n",
       "dep_time_2              object\n",
       "arr_time_2              object\n",
       "dtype: object"
      ]
     },
     "execution_count": 69,
     "metadata": {},
     "output_type": "execute_result"
    }
   ],
   "source": [
    "delays.dtypes"
   ]
  },
  {
   "cell_type": "code",
   "execution_count": 1410,
   "metadata": {},
   "outputs": [],
   "source": [
    "#delays = delays[['fl_date', 'actual_elapsed_time', 'crs_dep_time_2', 'crs_arr_time_2', 'dep_time_2', 'arr_time_2']]\n",
    "#delays=delays.copy()\n",
    "#delays.head()"
   ]
  },
  {
   "cell_type": "code",
   "execution_count": 70,
   "metadata": {},
   "outputs": [],
   "source": [
    "delays = delays.copy()\n",
    "delays['dep_next_day'] = 0\n",
    "delays['arr_next_day'] = 0"
   ]
  },
  {
   "cell_type": "code",
   "execution_count": 71,
   "metadata": {},
   "outputs": [
    {
     "data": {
      "text/plain": [
       "'07'"
      ]
     },
     "execution_count": 71,
     "metadata": {},
     "output_type": "execute_result"
    }
   ],
   "source": [
    "delays['dep_time_h'][0]"
   ]
  },
  {
   "cell_type": "code",
   "execution_count": 72,
   "metadata": {},
   "outputs": [],
   "source": [
    "#delays['dep_time_h'].shape"
   ]
  },
  {
   "cell_type": "code",
   "execution_count": 73,
   "metadata": {},
   "outputs": [
    {
     "name": "stdout",
     "output_type": "stream",
     "text": [
      "yes\n"
     ]
    }
   ],
   "source": [
    "a = 23\n",
    "b = 2\n",
    "if b - a < -2:\n",
    "    print('yes')"
   ]
  },
  {
   "cell_type": "code",
   "execution_count": 74,
   "metadata": {},
   "outputs": [
    {
     "name": "stderr",
     "output_type": "stream",
     "text": [
      "<ipython-input-74-0e2d9bc7318d>:5: SettingWithCopyWarning: \n",
      "A value is trying to be set on a copy of a slice from a DataFrame\n",
      "\n",
      "See the caveats in the documentation: https://pandas.pydata.org/pandas-docs/stable/user_guide/indexing.html#returning-a-view-versus-a-copy\n",
      "  delays.iloc[i]['dep_next_day'] = 0\n",
      "<ipython-input-74-0e2d9bc7318d>:3: SettingWithCopyWarning: \n",
      "A value is trying to be set on a copy of a slice from a DataFrame\n",
      "\n",
      "See the caveats in the documentation: https://pandas.pydata.org/pandas-docs/stable/user_guide/indexing.html#returning-a-view-versus-a-copy\n",
      "  delays.iloc[i]['dep_next_day'] = 1\n",
      "<ipython-input-74-0e2d9bc7318d>:11: SettingWithCopyWarning: \n",
      "A value is trying to be set on a copy of a slice from a DataFrame\n",
      "\n",
      "See the caveats in the documentation: https://pandas.pydata.org/pandas-docs/stable/user_guide/indexing.html#returning-a-view-versus-a-copy\n",
      "  delays.iloc[i]['arr_next_day'] = 0\n",
      "<ipython-input-74-0e2d9bc7318d>:9: SettingWithCopyWarning: \n",
      "A value is trying to be set on a copy of a slice from a DataFrame\n",
      "\n",
      "See the caveats in the documentation: https://pandas.pydata.org/pandas-docs/stable/user_guide/indexing.html#returning-a-view-versus-a-copy\n",
      "  delays.iloc[i]['arr_next_day'] = 1\n"
     ]
    },
    {
     "ename": "KeyboardInterrupt",
     "evalue": "",
     "output_type": "error",
     "traceback": [
      "\u001b[0;31m---------------------------------------------------------------------------\u001b[0m",
      "\u001b[0;31mKeyboardInterrupt\u001b[0m                         Traceback (most recent call last)",
      "\u001b[0;32m<ipython-input-74-0e2d9bc7318d>\u001b[0m in \u001b[0;36m<module>\u001b[0;34m\u001b[0m\n\u001b[1;32m      6\u001b[0m \u001b[0;34m\u001b[0m\u001b[0m\n\u001b[1;32m      7\u001b[0m \u001b[0;32mfor\u001b[0m \u001b[0mi\u001b[0m \u001b[0;32min\u001b[0m \u001b[0mrange\u001b[0m\u001b[0;34m(\u001b[0m\u001b[0mlen\u001b[0m\u001b[0;34m(\u001b[0m\u001b[0mdelays\u001b[0m\u001b[0;34m[\u001b[0m\u001b[0;34m'arr_time_h'\u001b[0m\u001b[0;34m]\u001b[0m\u001b[0;34m)\u001b[0m\u001b[0;34m)\u001b[0m\u001b[0;34m:\u001b[0m\u001b[0;34m\u001b[0m\u001b[0;34m\u001b[0m\u001b[0m\n\u001b[0;32m----> 8\u001b[0;31m     \u001b[0;32mif\u001b[0m \u001b[0;34m(\u001b[0m\u001b[0mint\u001b[0m\u001b[0;34m(\u001b[0m\u001b[0mdelays\u001b[0m\u001b[0;34m.\u001b[0m\u001b[0miloc\u001b[0m\u001b[0;34m[\u001b[0m\u001b[0mi\u001b[0m\u001b[0;34m]\u001b[0m\u001b[0;34m[\u001b[0m\u001b[0;34m'arr_time_h'\u001b[0m\u001b[0;34m]\u001b[0m\u001b[0;34m)\u001b[0m \u001b[0;34m-\u001b[0m \u001b[0mint\u001b[0m\u001b[0;34m(\u001b[0m\u001b[0mdelays\u001b[0m\u001b[0;34m.\u001b[0m\u001b[0miloc\u001b[0m\u001b[0;34m[\u001b[0m\u001b[0mi\u001b[0m\u001b[0;34m]\u001b[0m\u001b[0;34m[\u001b[0m\u001b[0;34m'crs_arr_time_h'\u001b[0m\u001b[0;34m]\u001b[0m\u001b[0;34m)\u001b[0m\u001b[0;34m)\u001b[0m \u001b[0;34m<\u001b[0m \u001b[0;34m-\u001b[0m\u001b[0;36m2\u001b[0m\u001b[0;34m:\u001b[0m\u001b[0;34m\u001b[0m\u001b[0;34m\u001b[0m\u001b[0m\n\u001b[0m\u001b[1;32m      9\u001b[0m         \u001b[0mdelays\u001b[0m\u001b[0;34m.\u001b[0m\u001b[0miloc\u001b[0m\u001b[0;34m[\u001b[0m\u001b[0mi\u001b[0m\u001b[0;34m]\u001b[0m\u001b[0;34m[\u001b[0m\u001b[0;34m'arr_next_day'\u001b[0m\u001b[0;34m]\u001b[0m \u001b[0;34m=\u001b[0m \u001b[0;36m1\u001b[0m\u001b[0;34m\u001b[0m\u001b[0;34m\u001b[0m\u001b[0m\n\u001b[1;32m     10\u001b[0m     \u001b[0;32melse\u001b[0m\u001b[0;34m:\u001b[0m\u001b[0;34m\u001b[0m\u001b[0;34m\u001b[0m\u001b[0m\n",
      "\u001b[0;32m~/anaconda3/lib/python3.8/site-packages/pandas/core/indexing.py\u001b[0m in \u001b[0;36m__getitem__\u001b[0;34m(self, key)\u001b[0m\n\u001b[1;32m   1765\u001b[0m \u001b[0;34m\u001b[0m\u001b[0m\n\u001b[1;32m   1766\u001b[0m             \u001b[0mmaybe_callable\u001b[0m \u001b[0;34m=\u001b[0m \u001b[0mcom\u001b[0m\u001b[0;34m.\u001b[0m\u001b[0mapply_if_callable\u001b[0m\u001b[0;34m(\u001b[0m\u001b[0mkey\u001b[0m\u001b[0;34m,\u001b[0m \u001b[0mself\u001b[0m\u001b[0;34m.\u001b[0m\u001b[0mobj\u001b[0m\u001b[0;34m)\u001b[0m\u001b[0;34m\u001b[0m\u001b[0;34m\u001b[0m\u001b[0m\n\u001b[0;32m-> 1767\u001b[0;31m             \u001b[0;32mreturn\u001b[0m \u001b[0mself\u001b[0m\u001b[0;34m.\u001b[0m\u001b[0m_getitem_axis\u001b[0m\u001b[0;34m(\u001b[0m\u001b[0mmaybe_callable\u001b[0m\u001b[0;34m,\u001b[0m \u001b[0maxis\u001b[0m\u001b[0;34m=\u001b[0m\u001b[0maxis\u001b[0m\u001b[0;34m)\u001b[0m\u001b[0;34m\u001b[0m\u001b[0;34m\u001b[0m\u001b[0m\n\u001b[0m\u001b[1;32m   1768\u001b[0m \u001b[0;34m\u001b[0m\u001b[0m\n\u001b[1;32m   1769\u001b[0m     \u001b[0;32mdef\u001b[0m \u001b[0m_is_scalar_access\u001b[0m\u001b[0;34m(\u001b[0m\u001b[0mself\u001b[0m\u001b[0;34m,\u001b[0m \u001b[0mkey\u001b[0m\u001b[0;34m:\u001b[0m \u001b[0mTuple\u001b[0m\u001b[0;34m)\u001b[0m\u001b[0;34m:\u001b[0m\u001b[0;34m\u001b[0m\u001b[0;34m\u001b[0m\u001b[0m\n",
      "\u001b[0;32m~/anaconda3/lib/python3.8/site-packages/pandas/core/indexing.py\u001b[0m in \u001b[0;36m_getitem_axis\u001b[0;34m(self, key, axis)\u001b[0m\n\u001b[1;32m   2135\u001b[0m \u001b[0;34m\u001b[0m\u001b[0m\n\u001b[1;32m   2136\u001b[0m             \u001b[0;31m# validate the location\u001b[0m\u001b[0;34m\u001b[0m\u001b[0;34m\u001b[0m\u001b[0;34m\u001b[0m\u001b[0m\n\u001b[0;32m-> 2137\u001b[0;31m             \u001b[0mself\u001b[0m\u001b[0;34m.\u001b[0m\u001b[0m_validate_integer\u001b[0m\u001b[0;34m(\u001b[0m\u001b[0mkey\u001b[0m\u001b[0;34m,\u001b[0m \u001b[0maxis\u001b[0m\u001b[0;34m)\u001b[0m\u001b[0;34m\u001b[0m\u001b[0;34m\u001b[0m\u001b[0m\n\u001b[0m\u001b[1;32m   2138\u001b[0m \u001b[0;34m\u001b[0m\u001b[0m\n\u001b[1;32m   2139\u001b[0m             \u001b[0;32mreturn\u001b[0m \u001b[0mself\u001b[0m\u001b[0;34m.\u001b[0m\u001b[0m_get_loc\u001b[0m\u001b[0;34m(\u001b[0m\u001b[0mkey\u001b[0m\u001b[0;34m,\u001b[0m \u001b[0maxis\u001b[0m\u001b[0;34m=\u001b[0m\u001b[0maxis\u001b[0m\u001b[0;34m)\u001b[0m\u001b[0;34m\u001b[0m\u001b[0;34m\u001b[0m\u001b[0m\n",
      "\u001b[0;32m~/anaconda3/lib/python3.8/site-packages/pandas/core/indexing.py\u001b[0m in \u001b[0;36m_validate_integer\u001b[0;34m(self, key, axis)\u001b[0m\n\u001b[1;32m   2058\u001b[0m             \u001b[0mIf\u001b[0m \u001b[0;34m'key'\u001b[0m \u001b[0;32mis\u001b[0m \u001b[0;32mnot\u001b[0m \u001b[0ma\u001b[0m \u001b[0mvalid\u001b[0m \u001b[0mposition\u001b[0m \u001b[0;32min\u001b[0m \u001b[0maxis\u001b[0m \u001b[0;34m'axis'\u001b[0m\u001b[0;34m.\u001b[0m\u001b[0;34m\u001b[0m\u001b[0;34m\u001b[0m\u001b[0m\n\u001b[1;32m   2059\u001b[0m         \"\"\"\n\u001b[0;32m-> 2060\u001b[0;31m         \u001b[0mlen_axis\u001b[0m \u001b[0;34m=\u001b[0m \u001b[0mlen\u001b[0m\u001b[0;34m(\u001b[0m\u001b[0mself\u001b[0m\u001b[0;34m.\u001b[0m\u001b[0mobj\u001b[0m\u001b[0;34m.\u001b[0m\u001b[0m_get_axis\u001b[0m\u001b[0;34m(\u001b[0m\u001b[0maxis\u001b[0m\u001b[0;34m)\u001b[0m\u001b[0;34m)\u001b[0m\u001b[0;34m\u001b[0m\u001b[0;34m\u001b[0m\u001b[0m\n\u001b[0m\u001b[1;32m   2061\u001b[0m         \u001b[0;32mif\u001b[0m \u001b[0mkey\u001b[0m \u001b[0;34m>=\u001b[0m \u001b[0mlen_axis\u001b[0m \u001b[0;32mor\u001b[0m \u001b[0mkey\u001b[0m \u001b[0;34m<\u001b[0m \u001b[0;34m-\u001b[0m\u001b[0mlen_axis\u001b[0m\u001b[0;34m:\u001b[0m\u001b[0;34m\u001b[0m\u001b[0;34m\u001b[0m\u001b[0m\n\u001b[1;32m   2062\u001b[0m             \u001b[0;32mraise\u001b[0m \u001b[0mIndexError\u001b[0m\u001b[0;34m(\u001b[0m\u001b[0;34m\"single positional indexer is out-of-bounds\"\u001b[0m\u001b[0;34m)\u001b[0m\u001b[0;34m\u001b[0m\u001b[0;34m\u001b[0m\u001b[0m\n",
      "\u001b[0;31mKeyboardInterrupt\u001b[0m: "
     ]
    }
   ],
   "source": [
    "for i in range(len(delays['dep_time_h'])):\n",
    "    if (int(delays.iloc[i]['dep_time_h']) - int(delays.iloc[i]['crs_dep_time_h'])) < -2:\n",
    "        delays.iloc[i]['dep_next_day'] = 1\n",
    "    else:\n",
    "        delays.iloc[i]['dep_next_day'] = 0\n",
    "        \n",
    "for i in range(len(delays['arr_time_h'])):\n",
    "    if (int(delays.iloc[i]['arr_time_h']) - int(delays.iloc[i]['crs_arr_time_h'])) < -2:\n",
    "        delays.iloc[i]['arr_next_day'] = 1\n",
    "    else:\n",
    "        delays.iloc[i]['arr_next_day'] = 0"
   ]
  },
  {
   "cell_type": "code",
   "execution_count": null,
   "metadata": {},
   "outputs": [],
   "source": []
  },
  {
   "cell_type": "code",
   "execution_count": null,
   "metadata": {},
   "outputs": [],
   "source": [
    "delays['crs_dep_time_3'] = delays.fl_date + ' ' + delays.crs_dep_time_2\n",
    "delays['crs_arr_time_3'] = delays.fl_date + ' ' + delays.crs_arr_time_2\n",
    "\n",
    "delays['dep_time_3'] = delays.fl_date + ' ' + delays.dep_time_2\n",
    "delays['arr_time_3'] = delays.fl_date + ' ' + delays.arr_time_2"
   ]
  },
  {
   "cell_type": "code",
   "execution_count": 1422,
   "metadata": {},
   "outputs": [],
   "source": [
    "delays['crs_dep_time_3'] = pd.to_datetime(delays['crs_dep_time_3'])\n",
    "delays['crs_arr_time_3'] = pd.to_datetime(delays['crs_arr_time_3'])\n",
    "delays['dep_time_3'] = pd.to_datetime(delays['dep_time_3'])\n",
    "delays['arr_time_3'] = pd.to_datetime(delays['arr_time_3'])"
   ]
  },
  {
   "cell_type": "code",
   "execution_count": 1423,
   "metadata": {},
   "outputs": [
    {
     "data": {
      "text/plain": [
       "fl_date                        object\n",
       "crs_dep_time                   object\n",
       "dep_time                       object\n",
       "actual_elapsed_time           float64\n",
       "crs_arr_time                   object\n",
       "arr_time                       object\n",
       "dep_time_h                     object\n",
       "dep_time_m                     object\n",
       "arr_time_h                     object\n",
       "arr_time_m                     object\n",
       "crs_dep_time_h                 object\n",
       "crs_dep_time_m                 object\n",
       "crs_arr_time_h                 object\n",
       "crs_arr_time_m                 object\n",
       "crs_dep_time_hour              object\n",
       "crs_dep_time_min               object\n",
       "crs_arr_time_hour              object\n",
       "crs_arr_time_min               object\n",
       "dep_time_hour                  object\n",
       "dep_time_min                   object\n",
       "arr_time_hour                  object\n",
       "arr_time_min                   object\n",
       "crs_dep_time_2                 object\n",
       "crs_arr_time_2                 object\n",
       "dep_time_2                     object\n",
       "arr_time_2                     object\n",
       "dep_next_day                    int64\n",
       "arr_next_day                    int64\n",
       "crs_dep_time_3         datetime64[ns]\n",
       "crs_arr_time_3         datetime64[ns]\n",
       "dep_time_3             datetime64[ns]\n",
       "arr_time_3             datetime64[ns]\n",
       "dtype: object"
      ]
     },
     "execution_count": 1423,
     "metadata": {},
     "output_type": "execute_result"
    }
   ],
   "source": [
    "delays.dtypes"
   ]
  },
  {
   "cell_type": "code",
   "execution_count": 1424,
   "metadata": {},
   "outputs": [
    {
     "data": {
      "text/html": [
       "<div>\n",
       "<style scoped>\n",
       "    .dataframe tbody tr th:only-of-type {\n",
       "        vertical-align: middle;\n",
       "    }\n",
       "\n",
       "    .dataframe tbody tr th {\n",
       "        vertical-align: top;\n",
       "    }\n",
       "\n",
       "    .dataframe thead th {\n",
       "        text-align: right;\n",
       "    }\n",
       "</style>\n",
       "<table border=\"1\" class=\"dataframe\">\n",
       "  <thead>\n",
       "    <tr style=\"text-align: right;\">\n",
       "      <th></th>\n",
       "      <th>fl_date</th>\n",
       "      <th>crs_dep_time</th>\n",
       "      <th>dep_time</th>\n",
       "      <th>actual_elapsed_time</th>\n",
       "      <th>crs_arr_time</th>\n",
       "      <th>arr_time</th>\n",
       "      <th>dep_time_h</th>\n",
       "      <th>dep_time_m</th>\n",
       "      <th>arr_time_h</th>\n",
       "      <th>arr_time_m</th>\n",
       "      <th>...</th>\n",
       "      <th>crs_dep_time_2</th>\n",
       "      <th>crs_arr_time_2</th>\n",
       "      <th>dep_time_2</th>\n",
       "      <th>arr_time_2</th>\n",
       "      <th>dep_next_day</th>\n",
       "      <th>arr_next_day</th>\n",
       "      <th>crs_dep_time_3</th>\n",
       "      <th>crs_arr_time_3</th>\n",
       "      <th>dep_time_3</th>\n",
       "      <th>arr_time_3</th>\n",
       "    </tr>\n",
       "  </thead>\n",
       "  <tbody>\n",
       "    <tr>\n",
       "      <th>0</th>\n",
       "      <td>2019-12-07</td>\n",
       "      <td>1550</td>\n",
       "      <td>1545</td>\n",
       "      <td>63.0</td>\n",
       "      <td>1655</td>\n",
       "      <td>1648</td>\n",
       "      <td>15</td>\n",
       "      <td>45</td>\n",
       "      <td>16</td>\n",
       "      <td>48</td>\n",
       "      <td>...</td>\n",
       "      <td>15:50</td>\n",
       "      <td>16:55</td>\n",
       "      <td>15:45</td>\n",
       "      <td>16:48</td>\n",
       "      <td>0</td>\n",
       "      <td>0</td>\n",
       "      <td>2019-12-07 15:50:00</td>\n",
       "      <td>2019-12-07 16:55:00</td>\n",
       "      <td>2019-12-07 15:45:00</td>\n",
       "      <td>2019-12-07 16:48:00</td>\n",
       "    </tr>\n",
       "    <tr>\n",
       "      <th>1</th>\n",
       "      <td>2019-04-06</td>\n",
       "      <td>0835</td>\n",
       "      <td>0829</td>\n",
       "      <td>309.0</td>\n",
       "      <td>1153</td>\n",
       "      <td>1238</td>\n",
       "      <td>08</td>\n",
       "      <td>29</td>\n",
       "      <td>12</td>\n",
       "      <td>38</td>\n",
       "      <td>...</td>\n",
       "      <td>08:35</td>\n",
       "      <td>11:53</td>\n",
       "      <td>08:29</td>\n",
       "      <td>12:38</td>\n",
       "      <td>0</td>\n",
       "      <td>0</td>\n",
       "      <td>2019-04-06 08:35:00</td>\n",
       "      <td>2019-04-06 11:53:00</td>\n",
       "      <td>2019-04-06 08:29:00</td>\n",
       "      <td>2019-04-06 12:38:00</td>\n",
       "    </tr>\n",
       "    <tr>\n",
       "      <th>2</th>\n",
       "      <td>2019-07-12</td>\n",
       "      <td>1925</td>\n",
       "      <td>1918</td>\n",
       "      <td>370.0</td>\n",
       "      <td>2235</td>\n",
       "      <td>2228</td>\n",
       "      <td>19</td>\n",
       "      <td>18</td>\n",
       "      <td>22</td>\n",
       "      <td>28</td>\n",
       "      <td>...</td>\n",
       "      <td>19:25</td>\n",
       "      <td>22:35</td>\n",
       "      <td>19:18</td>\n",
       "      <td>22:28</td>\n",
       "      <td>0</td>\n",
       "      <td>0</td>\n",
       "      <td>2019-07-12 19:25:00</td>\n",
       "      <td>2019-07-12 22:35:00</td>\n",
       "      <td>2019-07-12 19:18:00</td>\n",
       "      <td>2019-07-12 22:28:00</td>\n",
       "    </tr>\n",
       "    <tr>\n",
       "      <th>3</th>\n",
       "      <td>2019-08-23</td>\n",
       "      <td>1802</td>\n",
       "      <td>1821</td>\n",
       "      <td>215.0</td>\n",
       "      <td>1948</td>\n",
       "      <td>1956</td>\n",
       "      <td>18</td>\n",
       "      <td>21</td>\n",
       "      <td>19</td>\n",
       "      <td>56</td>\n",
       "      <td>...</td>\n",
       "      <td>18:02</td>\n",
       "      <td>19:48</td>\n",
       "      <td>18:21</td>\n",
       "      <td>19:56</td>\n",
       "      <td>0</td>\n",
       "      <td>0</td>\n",
       "      <td>2019-08-23 18:02:00</td>\n",
       "      <td>2019-08-23 19:48:00</td>\n",
       "      <td>2019-08-23 18:21:00</td>\n",
       "      <td>2019-08-23 19:56:00</td>\n",
       "    </tr>\n",
       "    <tr>\n",
       "      <th>4</th>\n",
       "      <td>2019-11-26</td>\n",
       "      <td>1315</td>\n",
       "      <td>1312</td>\n",
       "      <td>110.0</td>\n",
       "      <td>1603</td>\n",
       "      <td>1602</td>\n",
       "      <td>13</td>\n",
       "      <td>12</td>\n",
       "      <td>16</td>\n",
       "      <td>02</td>\n",
       "      <td>...</td>\n",
       "      <td>13:15</td>\n",
       "      <td>16:03</td>\n",
       "      <td>13:12</td>\n",
       "      <td>16:02</td>\n",
       "      <td>0</td>\n",
       "      <td>0</td>\n",
       "      <td>2019-11-26 13:15:00</td>\n",
       "      <td>2019-11-26 16:03:00</td>\n",
       "      <td>2019-11-26 13:12:00</td>\n",
       "      <td>2019-11-26 16:02:00</td>\n",
       "    </tr>\n",
       "    <tr>\n",
       "      <th>...</th>\n",
       "      <td>...</td>\n",
       "      <td>...</td>\n",
       "      <td>...</td>\n",
       "      <td>...</td>\n",
       "      <td>...</td>\n",
       "      <td>...</td>\n",
       "      <td>...</td>\n",
       "      <td>...</td>\n",
       "      <td>...</td>\n",
       "      <td>...</td>\n",
       "      <td>...</td>\n",
       "      <td>...</td>\n",
       "      <td>...</td>\n",
       "      <td>...</td>\n",
       "      <td>...</td>\n",
       "      <td>...</td>\n",
       "      <td>...</td>\n",
       "      <td>...</td>\n",
       "      <td>...</td>\n",
       "      <td>...</td>\n",
       "      <td>...</td>\n",
       "    </tr>\n",
       "    <tr>\n",
       "      <th>9995</th>\n",
       "      <td>2018-10-31</td>\n",
       "      <td>1645</td>\n",
       "      <td>2016</td>\n",
       "      <td>99.0</td>\n",
       "      <td>1826</td>\n",
       "      <td>2155</td>\n",
       "      <td>20</td>\n",
       "      <td>16</td>\n",
       "      <td>21</td>\n",
       "      <td>55</td>\n",
       "      <td>...</td>\n",
       "      <td>16:45</td>\n",
       "      <td>18:26</td>\n",
       "      <td>20:16</td>\n",
       "      <td>21:55</td>\n",
       "      <td>0</td>\n",
       "      <td>0</td>\n",
       "      <td>2018-10-31 16:45:00</td>\n",
       "      <td>2018-10-31 18:26:00</td>\n",
       "      <td>2018-10-31 20:16:00</td>\n",
       "      <td>2018-10-31 21:55:00</td>\n",
       "    </tr>\n",
       "    <tr>\n",
       "      <th>9996</th>\n",
       "      <td>2019-07-14</td>\n",
       "      <td>0805</td>\n",
       "      <td>0800</td>\n",
       "      <td>78.0</td>\n",
       "      <td>0930</td>\n",
       "      <td>0918</td>\n",
       "      <td>08</td>\n",
       "      <td>00</td>\n",
       "      <td>09</td>\n",
       "      <td>18</td>\n",
       "      <td>...</td>\n",
       "      <td>08:05</td>\n",
       "      <td>09:30</td>\n",
       "      <td>08:00</td>\n",
       "      <td>09:18</td>\n",
       "      <td>0</td>\n",
       "      <td>0</td>\n",
       "      <td>2019-07-14 08:05:00</td>\n",
       "      <td>2019-07-14 09:30:00</td>\n",
       "      <td>2019-07-14 08:00:00</td>\n",
       "      <td>2019-07-14 09:18:00</td>\n",
       "    </tr>\n",
       "    <tr>\n",
       "      <th>9997</th>\n",
       "      <td>2019-10-09</td>\n",
       "      <td>1650</td>\n",
       "      <td>1646</td>\n",
       "      <td>139.0</td>\n",
       "      <td>1846</td>\n",
       "      <td>1805</td>\n",
       "      <td>16</td>\n",
       "      <td>46</td>\n",
       "      <td>18</td>\n",
       "      <td>05</td>\n",
       "      <td>...</td>\n",
       "      <td>16:50</td>\n",
       "      <td>18:46</td>\n",
       "      <td>16:46</td>\n",
       "      <td>18:05</td>\n",
       "      <td>0</td>\n",
       "      <td>0</td>\n",
       "      <td>2019-10-09 16:50:00</td>\n",
       "      <td>2019-10-09 18:46:00</td>\n",
       "      <td>2019-10-09 16:46:00</td>\n",
       "      <td>2019-10-09 18:05:00</td>\n",
       "    </tr>\n",
       "    <tr>\n",
       "      <th>9998</th>\n",
       "      <td>2019-09-04</td>\n",
       "      <td>1855</td>\n",
       "      <td>1856</td>\n",
       "      <td>222.0</td>\n",
       "      <td>0040</td>\n",
       "      <td>0038</td>\n",
       "      <td>18</td>\n",
       "      <td>56</td>\n",
       "      <td>00</td>\n",
       "      <td>38</td>\n",
       "      <td>...</td>\n",
       "      <td>18:55</td>\n",
       "      <td>00:40</td>\n",
       "      <td>18:56</td>\n",
       "      <td>00:38</td>\n",
       "      <td>0</td>\n",
       "      <td>0</td>\n",
       "      <td>2019-09-04 18:55:00</td>\n",
       "      <td>2019-09-04 00:40:00</td>\n",
       "      <td>2019-09-04 18:56:00</td>\n",
       "      <td>2019-09-04 00:38:00</td>\n",
       "    </tr>\n",
       "    <tr>\n",
       "      <th>9999</th>\n",
       "      <td>2018-10-31</td>\n",
       "      <td>1119</td>\n",
       "      <td>1113</td>\n",
       "      <td>46.0</td>\n",
       "      <td>1155</td>\n",
       "      <td>1159</td>\n",
       "      <td>11</td>\n",
       "      <td>13</td>\n",
       "      <td>11</td>\n",
       "      <td>59</td>\n",
       "      <td>...</td>\n",
       "      <td>11:19</td>\n",
       "      <td>11:55</td>\n",
       "      <td>11:13</td>\n",
       "      <td>11:59</td>\n",
       "      <td>0</td>\n",
       "      <td>0</td>\n",
       "      <td>2018-10-31 11:19:00</td>\n",
       "      <td>2018-10-31 11:55:00</td>\n",
       "      <td>2018-10-31 11:13:00</td>\n",
       "      <td>2018-10-31 11:59:00</td>\n",
       "    </tr>\n",
       "  </tbody>\n",
       "</table>\n",
       "<p>9815 rows × 32 columns</p>\n",
       "</div>"
      ],
      "text/plain": [
       "         fl_date crs_dep_time dep_time  actual_elapsed_time crs_arr_time  \\\n",
       "0     2019-12-07         1550     1545                 63.0         1655   \n",
       "1     2019-04-06         0835     0829                309.0         1153   \n",
       "2     2019-07-12         1925     1918                370.0         2235   \n",
       "3     2019-08-23         1802     1821                215.0         1948   \n",
       "4     2019-11-26         1315     1312                110.0         1603   \n",
       "...          ...          ...      ...                  ...          ...   \n",
       "9995  2018-10-31         1645     2016                 99.0         1826   \n",
       "9996  2019-07-14         0805     0800                 78.0         0930   \n",
       "9997  2019-10-09         1650     1646                139.0         1846   \n",
       "9998  2019-09-04         1855     1856                222.0         0040   \n",
       "9999  2018-10-31         1119     1113                 46.0         1155   \n",
       "\n",
       "     arr_time dep_time_h dep_time_m arr_time_h arr_time_m  ... crs_dep_time_2  \\\n",
       "0        1648         15         45         16         48  ...          15:50   \n",
       "1        1238         08         29         12         38  ...          08:35   \n",
       "2        2228         19         18         22         28  ...          19:25   \n",
       "3        1956         18         21         19         56  ...          18:02   \n",
       "4        1602         13         12         16         02  ...          13:15   \n",
       "...       ...        ...        ...        ...        ...  ...            ...   \n",
       "9995     2155         20         16         21         55  ...          16:45   \n",
       "9996     0918         08         00         09         18  ...          08:05   \n",
       "9997     1805         16         46         18         05  ...          16:50   \n",
       "9998     0038         18         56         00         38  ...          18:55   \n",
       "9999     1159         11         13         11         59  ...          11:19   \n",
       "\n",
       "     crs_arr_time_2 dep_time_2 arr_time_2 dep_next_day arr_next_day  \\\n",
       "0             16:55      15:45      16:48            0            0   \n",
       "1             11:53      08:29      12:38            0            0   \n",
       "2             22:35      19:18      22:28            0            0   \n",
       "3             19:48      18:21      19:56            0            0   \n",
       "4             16:03      13:12      16:02            0            0   \n",
       "...             ...        ...        ...          ...          ...   \n",
       "9995          18:26      20:16      21:55            0            0   \n",
       "9996          09:30      08:00      09:18            0            0   \n",
       "9997          18:46      16:46      18:05            0            0   \n",
       "9998          00:40      18:56      00:38            0            0   \n",
       "9999          11:55      11:13      11:59            0            0   \n",
       "\n",
       "          crs_dep_time_3      crs_arr_time_3          dep_time_3  \\\n",
       "0    2019-12-07 15:50:00 2019-12-07 16:55:00 2019-12-07 15:45:00   \n",
       "1    2019-04-06 08:35:00 2019-04-06 11:53:00 2019-04-06 08:29:00   \n",
       "2    2019-07-12 19:25:00 2019-07-12 22:35:00 2019-07-12 19:18:00   \n",
       "3    2019-08-23 18:02:00 2019-08-23 19:48:00 2019-08-23 18:21:00   \n",
       "4    2019-11-26 13:15:00 2019-11-26 16:03:00 2019-11-26 13:12:00   \n",
       "...                  ...                 ...                 ...   \n",
       "9995 2018-10-31 16:45:00 2018-10-31 18:26:00 2018-10-31 20:16:00   \n",
       "9996 2019-07-14 08:05:00 2019-07-14 09:30:00 2019-07-14 08:00:00   \n",
       "9997 2019-10-09 16:50:00 2019-10-09 18:46:00 2019-10-09 16:46:00   \n",
       "9998 2019-09-04 18:55:00 2019-09-04 00:40:00 2019-09-04 18:56:00   \n",
       "9999 2018-10-31 11:19:00 2018-10-31 11:55:00 2018-10-31 11:13:00   \n",
       "\n",
       "              arr_time_3  \n",
       "0    2019-12-07 16:48:00  \n",
       "1    2019-04-06 12:38:00  \n",
       "2    2019-07-12 22:28:00  \n",
       "3    2019-08-23 19:56:00  \n",
       "4    2019-11-26 16:02:00  \n",
       "...                  ...  \n",
       "9995 2018-10-31 21:55:00  \n",
       "9996 2019-07-14 09:18:00  \n",
       "9997 2019-10-09 18:05:00  \n",
       "9998 2019-09-04 00:38:00  \n",
       "9999 2018-10-31 11:59:00  \n",
       "\n",
       "[9815 rows x 32 columns]"
      ]
     },
     "execution_count": 1424,
     "metadata": {},
     "output_type": "execute_result"
    }
   ],
   "source": [
    "delays"
   ]
  },
  {
   "cell_type": "code",
   "execution_count": null,
   "metadata": {},
   "outputs": [],
   "source": []
  },
  {
   "cell_type": "code",
   "execution_count": null,
   "metadata": {},
   "outputs": [],
   "source": []
  },
  {
   "cell_type": "code",
   "execution_count": null,
   "metadata": {},
   "outputs": [],
   "source": []
  },
  {
   "cell_type": "code",
   "execution_count": 1425,
   "metadata": {},
   "outputs": [],
   "source": [
    "delays['dep_next_day'] = pd.to_timedelta(delays['dep_next_day'], unit='day')\n",
    "delays['arr_next_day'] = pd.to_timedelta(delays['arr_next_day'], unit='day')"
   ]
  },
  {
   "cell_type": "code",
   "execution_count": 1426,
   "metadata": {},
   "outputs": [
    {
     "data": {
      "text/plain": [
       "fl_date                         object\n",
       "crs_dep_time                    object\n",
       "dep_time                        object\n",
       "actual_elapsed_time            float64\n",
       "crs_arr_time                    object\n",
       "arr_time                        object\n",
       "dep_time_h                      object\n",
       "dep_time_m                      object\n",
       "arr_time_h                      object\n",
       "arr_time_m                      object\n",
       "crs_dep_time_h                  object\n",
       "crs_dep_time_m                  object\n",
       "crs_arr_time_h                  object\n",
       "crs_arr_time_m                  object\n",
       "crs_dep_time_hour               object\n",
       "crs_dep_time_min                object\n",
       "crs_arr_time_hour               object\n",
       "crs_arr_time_min                object\n",
       "dep_time_hour                   object\n",
       "dep_time_min                    object\n",
       "arr_time_hour                   object\n",
       "arr_time_min                    object\n",
       "crs_dep_time_2                  object\n",
       "crs_arr_time_2                  object\n",
       "dep_time_2                      object\n",
       "arr_time_2                      object\n",
       "dep_next_day           timedelta64[ns]\n",
       "arr_next_day           timedelta64[ns]\n",
       "crs_dep_time_3          datetime64[ns]\n",
       "crs_arr_time_3          datetime64[ns]\n",
       "dep_time_3              datetime64[ns]\n",
       "arr_time_3              datetime64[ns]\n",
       "dtype: object"
      ]
     },
     "execution_count": 1426,
     "metadata": {},
     "output_type": "execute_result"
    }
   ],
   "source": [
    "delays.dtypes"
   ]
  },
  {
   "cell_type": "code",
   "execution_count": null,
   "metadata": {},
   "outputs": [],
   "source": []
  },
  {
   "cell_type": "code",
   "execution_count": null,
   "metadata": {},
   "outputs": [],
   "source": []
  },
  {
   "cell_type": "code",
   "execution_count": 1427,
   "metadata": {},
   "outputs": [],
   "source": [
    "delays['dep_time_3'] = delays['dep_time_3']+delays['dep_next_day']\n",
    "delays['arr_time_3'] = delays['arr_time_3']+delays['arr_next_day']"
   ]
  },
  {
   "cell_type": "code",
   "execution_count": null,
   "metadata": {},
   "outputs": [],
   "source": []
  },
  {
   "cell_type": "code",
   "execution_count": 1435,
   "metadata": {},
   "outputs": [],
   "source": [
    "delays['dep_delay'] = delays['dep_time_3'] - delays['crs_dep_time_3']\n",
    "delays['arr_delay'] = delays['arr_time_3'] - delays['crs_arr_time_3']"
   ]
  },
  {
   "cell_type": "code",
   "execution_count": null,
   "metadata": {},
   "outputs": [],
   "source": []
  },
  {
   "cell_type": "code",
   "execution_count": null,
   "metadata": {},
   "outputs": [],
   "source": []
  },
  {
   "cell_type": "code",
   "execution_count": 1436,
   "metadata": {},
   "outputs": [],
   "source": [
    "delays['dep_delay'] = delays['dep_delay'].apply(lambda x: x.total_seconds()/60)\n",
    "delays['arr_delay'] = delays['arr_delay'].apply(lambda x: x.total_seconds()/60)"
   ]
  },
  {
   "cell_type": "code",
   "execution_count": 1437,
   "metadata": {},
   "outputs": [
    {
     "data": {
      "text/html": [
       "<div>\n",
       "<style scoped>\n",
       "    .dataframe tbody tr th:only-of-type {\n",
       "        vertical-align: middle;\n",
       "    }\n",
       "\n",
       "    .dataframe tbody tr th {\n",
       "        vertical-align: top;\n",
       "    }\n",
       "\n",
       "    .dataframe thead th {\n",
       "        text-align: right;\n",
       "    }\n",
       "</style>\n",
       "<table border=\"1\" class=\"dataframe\">\n",
       "  <thead>\n",
       "    <tr style=\"text-align: right;\">\n",
       "      <th></th>\n",
       "      <th>fl_date</th>\n",
       "      <th>crs_dep_time</th>\n",
       "      <th>dep_time</th>\n",
       "      <th>actual_elapsed_time</th>\n",
       "      <th>crs_arr_time</th>\n",
       "      <th>arr_time</th>\n",
       "      <th>dep_time_h</th>\n",
       "      <th>dep_time_m</th>\n",
       "      <th>arr_time_h</th>\n",
       "      <th>arr_time_m</th>\n",
       "      <th>...</th>\n",
       "      <th>dep_time_2</th>\n",
       "      <th>arr_time_2</th>\n",
       "      <th>dep_next_day</th>\n",
       "      <th>arr_next_day</th>\n",
       "      <th>crs_dep_time_3</th>\n",
       "      <th>crs_arr_time_3</th>\n",
       "      <th>dep_time_3</th>\n",
       "      <th>arr_time_3</th>\n",
       "      <th>dep_delay</th>\n",
       "      <th>arr_delay</th>\n",
       "    </tr>\n",
       "  </thead>\n",
       "  <tbody>\n",
       "    <tr>\n",
       "      <th>0</th>\n",
       "      <td>2019-12-07</td>\n",
       "      <td>1550</td>\n",
       "      <td>1545</td>\n",
       "      <td>63.0</td>\n",
       "      <td>1655</td>\n",
       "      <td>1648</td>\n",
       "      <td>15</td>\n",
       "      <td>45</td>\n",
       "      <td>16</td>\n",
       "      <td>48</td>\n",
       "      <td>...</td>\n",
       "      <td>15:45</td>\n",
       "      <td>16:48</td>\n",
       "      <td>0 days</td>\n",
       "      <td>0 days</td>\n",
       "      <td>2019-12-07 15:50:00</td>\n",
       "      <td>2019-12-07 16:55:00</td>\n",
       "      <td>2019-12-07 15:45:00</td>\n",
       "      <td>2019-12-07 16:48:00</td>\n",
       "      <td>-5.0</td>\n",
       "      <td>-7.0</td>\n",
       "    </tr>\n",
       "    <tr>\n",
       "      <th>1</th>\n",
       "      <td>2019-04-06</td>\n",
       "      <td>0835</td>\n",
       "      <td>0829</td>\n",
       "      <td>309.0</td>\n",
       "      <td>1153</td>\n",
       "      <td>1238</td>\n",
       "      <td>08</td>\n",
       "      <td>29</td>\n",
       "      <td>12</td>\n",
       "      <td>38</td>\n",
       "      <td>...</td>\n",
       "      <td>08:29</td>\n",
       "      <td>12:38</td>\n",
       "      <td>0 days</td>\n",
       "      <td>0 days</td>\n",
       "      <td>2019-04-06 08:35:00</td>\n",
       "      <td>2019-04-06 11:53:00</td>\n",
       "      <td>2019-04-06 08:29:00</td>\n",
       "      <td>2019-04-06 12:38:00</td>\n",
       "      <td>-6.0</td>\n",
       "      <td>45.0</td>\n",
       "    </tr>\n",
       "    <tr>\n",
       "      <th>2</th>\n",
       "      <td>2019-07-12</td>\n",
       "      <td>1925</td>\n",
       "      <td>1918</td>\n",
       "      <td>370.0</td>\n",
       "      <td>2235</td>\n",
       "      <td>2228</td>\n",
       "      <td>19</td>\n",
       "      <td>18</td>\n",
       "      <td>22</td>\n",
       "      <td>28</td>\n",
       "      <td>...</td>\n",
       "      <td>19:18</td>\n",
       "      <td>22:28</td>\n",
       "      <td>0 days</td>\n",
       "      <td>0 days</td>\n",
       "      <td>2019-07-12 19:25:00</td>\n",
       "      <td>2019-07-12 22:35:00</td>\n",
       "      <td>2019-07-12 19:18:00</td>\n",
       "      <td>2019-07-12 22:28:00</td>\n",
       "      <td>-7.0</td>\n",
       "      <td>-7.0</td>\n",
       "    </tr>\n",
       "    <tr>\n",
       "      <th>3</th>\n",
       "      <td>2019-08-23</td>\n",
       "      <td>1802</td>\n",
       "      <td>1821</td>\n",
       "      <td>215.0</td>\n",
       "      <td>1948</td>\n",
       "      <td>1956</td>\n",
       "      <td>18</td>\n",
       "      <td>21</td>\n",
       "      <td>19</td>\n",
       "      <td>56</td>\n",
       "      <td>...</td>\n",
       "      <td>18:21</td>\n",
       "      <td>19:56</td>\n",
       "      <td>0 days</td>\n",
       "      <td>0 days</td>\n",
       "      <td>2019-08-23 18:02:00</td>\n",
       "      <td>2019-08-23 19:48:00</td>\n",
       "      <td>2019-08-23 18:21:00</td>\n",
       "      <td>2019-08-23 19:56:00</td>\n",
       "      <td>19.0</td>\n",
       "      <td>8.0</td>\n",
       "    </tr>\n",
       "    <tr>\n",
       "      <th>4</th>\n",
       "      <td>2019-11-26</td>\n",
       "      <td>1315</td>\n",
       "      <td>1312</td>\n",
       "      <td>110.0</td>\n",
       "      <td>1603</td>\n",
       "      <td>1602</td>\n",
       "      <td>13</td>\n",
       "      <td>12</td>\n",
       "      <td>16</td>\n",
       "      <td>02</td>\n",
       "      <td>...</td>\n",
       "      <td>13:12</td>\n",
       "      <td>16:02</td>\n",
       "      <td>0 days</td>\n",
       "      <td>0 days</td>\n",
       "      <td>2019-11-26 13:15:00</td>\n",
       "      <td>2019-11-26 16:03:00</td>\n",
       "      <td>2019-11-26 13:12:00</td>\n",
       "      <td>2019-11-26 16:02:00</td>\n",
       "      <td>-3.0</td>\n",
       "      <td>-1.0</td>\n",
       "    </tr>\n",
       "    <tr>\n",
       "      <th>...</th>\n",
       "      <td>...</td>\n",
       "      <td>...</td>\n",
       "      <td>...</td>\n",
       "      <td>...</td>\n",
       "      <td>...</td>\n",
       "      <td>...</td>\n",
       "      <td>...</td>\n",
       "      <td>...</td>\n",
       "      <td>...</td>\n",
       "      <td>...</td>\n",
       "      <td>...</td>\n",
       "      <td>...</td>\n",
       "      <td>...</td>\n",
       "      <td>...</td>\n",
       "      <td>...</td>\n",
       "      <td>...</td>\n",
       "      <td>...</td>\n",
       "      <td>...</td>\n",
       "      <td>...</td>\n",
       "      <td>...</td>\n",
       "      <td>...</td>\n",
       "    </tr>\n",
       "    <tr>\n",
       "      <th>9995</th>\n",
       "      <td>2018-10-31</td>\n",
       "      <td>1645</td>\n",
       "      <td>2016</td>\n",
       "      <td>99.0</td>\n",
       "      <td>1826</td>\n",
       "      <td>2155</td>\n",
       "      <td>20</td>\n",
       "      <td>16</td>\n",
       "      <td>21</td>\n",
       "      <td>55</td>\n",
       "      <td>...</td>\n",
       "      <td>20:16</td>\n",
       "      <td>21:55</td>\n",
       "      <td>0 days</td>\n",
       "      <td>0 days</td>\n",
       "      <td>2018-10-31 16:45:00</td>\n",
       "      <td>2018-10-31 18:26:00</td>\n",
       "      <td>2018-10-31 20:16:00</td>\n",
       "      <td>2018-10-31 21:55:00</td>\n",
       "      <td>211.0</td>\n",
       "      <td>209.0</td>\n",
       "    </tr>\n",
       "    <tr>\n",
       "      <th>9996</th>\n",
       "      <td>2019-07-14</td>\n",
       "      <td>0805</td>\n",
       "      <td>0800</td>\n",
       "      <td>78.0</td>\n",
       "      <td>0930</td>\n",
       "      <td>0918</td>\n",
       "      <td>08</td>\n",
       "      <td>00</td>\n",
       "      <td>09</td>\n",
       "      <td>18</td>\n",
       "      <td>...</td>\n",
       "      <td>08:00</td>\n",
       "      <td>09:18</td>\n",
       "      <td>0 days</td>\n",
       "      <td>0 days</td>\n",
       "      <td>2019-07-14 08:05:00</td>\n",
       "      <td>2019-07-14 09:30:00</td>\n",
       "      <td>2019-07-14 08:00:00</td>\n",
       "      <td>2019-07-14 09:18:00</td>\n",
       "      <td>-5.0</td>\n",
       "      <td>-12.0</td>\n",
       "    </tr>\n",
       "    <tr>\n",
       "      <th>9997</th>\n",
       "      <td>2019-10-09</td>\n",
       "      <td>1650</td>\n",
       "      <td>1646</td>\n",
       "      <td>139.0</td>\n",
       "      <td>1846</td>\n",
       "      <td>1805</td>\n",
       "      <td>16</td>\n",
       "      <td>46</td>\n",
       "      <td>18</td>\n",
       "      <td>05</td>\n",
       "      <td>...</td>\n",
       "      <td>16:46</td>\n",
       "      <td>18:05</td>\n",
       "      <td>0 days</td>\n",
       "      <td>0 days</td>\n",
       "      <td>2019-10-09 16:50:00</td>\n",
       "      <td>2019-10-09 18:46:00</td>\n",
       "      <td>2019-10-09 16:46:00</td>\n",
       "      <td>2019-10-09 18:05:00</td>\n",
       "      <td>-4.0</td>\n",
       "      <td>-41.0</td>\n",
       "    </tr>\n",
       "    <tr>\n",
       "      <th>9998</th>\n",
       "      <td>2019-09-04</td>\n",
       "      <td>1855</td>\n",
       "      <td>1856</td>\n",
       "      <td>222.0</td>\n",
       "      <td>0040</td>\n",
       "      <td>0038</td>\n",
       "      <td>18</td>\n",
       "      <td>56</td>\n",
       "      <td>00</td>\n",
       "      <td>38</td>\n",
       "      <td>...</td>\n",
       "      <td>18:56</td>\n",
       "      <td>00:38</td>\n",
       "      <td>0 days</td>\n",
       "      <td>0 days</td>\n",
       "      <td>2019-09-04 18:55:00</td>\n",
       "      <td>2019-09-04 00:40:00</td>\n",
       "      <td>2019-09-04 18:56:00</td>\n",
       "      <td>2019-09-04 00:38:00</td>\n",
       "      <td>1.0</td>\n",
       "      <td>-2.0</td>\n",
       "    </tr>\n",
       "    <tr>\n",
       "      <th>9999</th>\n",
       "      <td>2018-10-31</td>\n",
       "      <td>1119</td>\n",
       "      <td>1113</td>\n",
       "      <td>46.0</td>\n",
       "      <td>1155</td>\n",
       "      <td>1159</td>\n",
       "      <td>11</td>\n",
       "      <td>13</td>\n",
       "      <td>11</td>\n",
       "      <td>59</td>\n",
       "      <td>...</td>\n",
       "      <td>11:13</td>\n",
       "      <td>11:59</td>\n",
       "      <td>0 days</td>\n",
       "      <td>0 days</td>\n",
       "      <td>2018-10-31 11:19:00</td>\n",
       "      <td>2018-10-31 11:55:00</td>\n",
       "      <td>2018-10-31 11:13:00</td>\n",
       "      <td>2018-10-31 11:59:00</td>\n",
       "      <td>-6.0</td>\n",
       "      <td>4.0</td>\n",
       "    </tr>\n",
       "  </tbody>\n",
       "</table>\n",
       "<p>9815 rows × 34 columns</p>\n",
       "</div>"
      ],
      "text/plain": [
       "         fl_date crs_dep_time dep_time  actual_elapsed_time crs_arr_time  \\\n",
       "0     2019-12-07         1550     1545                 63.0         1655   \n",
       "1     2019-04-06         0835     0829                309.0         1153   \n",
       "2     2019-07-12         1925     1918                370.0         2235   \n",
       "3     2019-08-23         1802     1821                215.0         1948   \n",
       "4     2019-11-26         1315     1312                110.0         1603   \n",
       "...          ...          ...      ...                  ...          ...   \n",
       "9995  2018-10-31         1645     2016                 99.0         1826   \n",
       "9996  2019-07-14         0805     0800                 78.0         0930   \n",
       "9997  2019-10-09         1650     1646                139.0         1846   \n",
       "9998  2019-09-04         1855     1856                222.0         0040   \n",
       "9999  2018-10-31         1119     1113                 46.0         1155   \n",
       "\n",
       "     arr_time dep_time_h dep_time_m arr_time_h arr_time_m  ... dep_time_2  \\\n",
       "0        1648         15         45         16         48  ...      15:45   \n",
       "1        1238         08         29         12         38  ...      08:29   \n",
       "2        2228         19         18         22         28  ...      19:18   \n",
       "3        1956         18         21         19         56  ...      18:21   \n",
       "4        1602         13         12         16         02  ...      13:12   \n",
       "...       ...        ...        ...        ...        ...  ...        ...   \n",
       "9995     2155         20         16         21         55  ...      20:16   \n",
       "9996     0918         08         00         09         18  ...      08:00   \n",
       "9997     1805         16         46         18         05  ...      16:46   \n",
       "9998     0038         18         56         00         38  ...      18:56   \n",
       "9999     1159         11         13         11         59  ...      11:13   \n",
       "\n",
       "     arr_time_2 dep_next_day arr_next_day      crs_dep_time_3  \\\n",
       "0         16:48       0 days       0 days 2019-12-07 15:50:00   \n",
       "1         12:38       0 days       0 days 2019-04-06 08:35:00   \n",
       "2         22:28       0 days       0 days 2019-07-12 19:25:00   \n",
       "3         19:56       0 days       0 days 2019-08-23 18:02:00   \n",
       "4         16:02       0 days       0 days 2019-11-26 13:15:00   \n",
       "...         ...          ...          ...                 ...   \n",
       "9995      21:55       0 days       0 days 2018-10-31 16:45:00   \n",
       "9996      09:18       0 days       0 days 2019-07-14 08:05:00   \n",
       "9997      18:05       0 days       0 days 2019-10-09 16:50:00   \n",
       "9998      00:38       0 days       0 days 2019-09-04 18:55:00   \n",
       "9999      11:59       0 days       0 days 2018-10-31 11:19:00   \n",
       "\n",
       "          crs_arr_time_3          dep_time_3          arr_time_3 dep_delay  \\\n",
       "0    2019-12-07 16:55:00 2019-12-07 15:45:00 2019-12-07 16:48:00      -5.0   \n",
       "1    2019-04-06 11:53:00 2019-04-06 08:29:00 2019-04-06 12:38:00      -6.0   \n",
       "2    2019-07-12 22:35:00 2019-07-12 19:18:00 2019-07-12 22:28:00      -7.0   \n",
       "3    2019-08-23 19:48:00 2019-08-23 18:21:00 2019-08-23 19:56:00      19.0   \n",
       "4    2019-11-26 16:03:00 2019-11-26 13:12:00 2019-11-26 16:02:00      -3.0   \n",
       "...                  ...                 ...                 ...       ...   \n",
       "9995 2018-10-31 18:26:00 2018-10-31 20:16:00 2018-10-31 21:55:00     211.0   \n",
       "9996 2019-07-14 09:30:00 2019-07-14 08:00:00 2019-07-14 09:18:00      -5.0   \n",
       "9997 2019-10-09 18:46:00 2019-10-09 16:46:00 2019-10-09 18:05:00      -4.0   \n",
       "9998 2019-09-04 00:40:00 2019-09-04 18:56:00 2019-09-04 00:38:00       1.0   \n",
       "9999 2018-10-31 11:55:00 2018-10-31 11:13:00 2018-10-31 11:59:00      -6.0   \n",
       "\n",
       "     arr_delay  \n",
       "0         -7.0  \n",
       "1         45.0  \n",
       "2         -7.0  \n",
       "3          8.0  \n",
       "4         -1.0  \n",
       "...        ...  \n",
       "9995     209.0  \n",
       "9996     -12.0  \n",
       "9997     -41.0  \n",
       "9998      -2.0  \n",
       "9999       4.0  \n",
       "\n",
       "[9815 rows x 34 columns]"
      ]
     },
     "execution_count": 1437,
     "metadata": {},
     "output_type": "execute_result"
    }
   ],
   "source": [
    "delays"
   ]
  },
  {
   "cell_type": "code",
   "execution_count": 1431,
   "metadata": {},
   "outputs": [],
   "source": [
    "#secondsDelta = delays['dep_delay'][0].total_seconds()\n",
    "#secondsDelta"
   ]
  },
  {
   "cell_type": "code",
   "execution_count": 1432,
   "metadata": {},
   "outputs": [],
   "source": [
    "#delays['dep_delay'][0].total_seconds()"
   ]
  },
  {
   "cell_type": "code",
   "execution_count": 1433,
   "metadata": {},
   "outputs": [],
   "source": [
    "#minutesDelta = secondsDelta/60\n",
    "#minutesDelta"
   ]
  },
  {
   "cell_type": "code",
   "execution_count": 1441,
   "metadata": {},
   "outputs": [
    {
     "data": {
      "text/plain": [
       "342"
      ]
     },
     "execution_count": 1441,
     "metadata": {},
     "output_type": "execute_result"
    }
   ],
   "source": [
    "delays['arr_delay'].argmin()"
   ]
  },
  {
   "cell_type": "code",
   "execution_count": 1443,
   "metadata": {},
   "outputs": [
    {
     "data": {
      "text/plain": [
       "fl_date                         2018-02-06\n",
       "crs_dep_time                          1800\n",
       "dep_time                              1840\n",
       "actual_elapsed_time                    203\n",
       "crs_arr_time                          2355\n",
       "arr_time                              0003\n",
       "dep_time_h                              18\n",
       "dep_time_m                              40\n",
       "arr_time_h                              00\n",
       "arr_time_m                              03\n",
       "crs_dep_time_h                          18\n",
       "crs_dep_time_m                          00\n",
       "crs_arr_time_h                          23\n",
       "crs_arr_time_m                          55\n",
       "crs_dep_time_hour                       18\n",
       "crs_dep_time_min                        00\n",
       "crs_arr_time_hour                       23\n",
       "crs_arr_time_min                        55\n",
       "dep_time_hour                           18\n",
       "dep_time_min                            40\n",
       "arr_time_hour                           00\n",
       "arr_time_min                            03\n",
       "crs_dep_time_2                       18:00\n",
       "crs_arr_time_2                       23:55\n",
       "dep_time_2                           18:40\n",
       "arr_time_2                           00:03\n",
       "dep_next_day               0 days 00:00:00\n",
       "arr_next_day               0 days 00:00:00\n",
       "crs_dep_time_3         2018-02-06 18:00:00\n",
       "crs_arr_time_3         2018-02-06 23:55:00\n",
       "dep_time_3             2018-02-06 18:40:00\n",
       "arr_time_3             2018-02-06 00:03:00\n",
       "dep_delay                               40\n",
       "arr_delay                            -1432\n",
       "Name: 348, dtype: object"
      ]
     },
     "execution_count": 1443,
     "metadata": {},
     "output_type": "execute_result"
    }
   ],
   "source": [
    "delays.iloc[342, :]"
   ]
  },
  {
   "cell_type": "markdown",
   "metadata": {},
   "source": [
    "#### **Task 6**: How many states cover 50% of US air traffic? "
   ]
  },
  {
   "cell_type": "code",
   "execution_count": 79,
   "metadata": {},
   "outputs": [],
   "source": [
    "origin_city = pd.read_sql_query('''SELECT COUNT(origin_city_name), origin_city_name FROM flights GROUP BY origin_city_name;''', conn)"
   ]
  },
  {
   "cell_type": "code",
   "execution_count": 81,
   "metadata": {},
   "outputs": [],
   "source": [
    "dest_city = pd.read_sql_query('''SELECT COUNT(dest_city_name), dest_city_name FROM flights GROUP BY dest_city_name;''', conn)"
   ]
  },
  {
   "cell_type": "code",
   "execution_count": 82,
   "metadata": {},
   "outputs": [],
   "source": [
    "dest_city['state'] = dest_city['dest_city_name'].str[-2:]\n",
    "dest_state = dest_city.groupby('state').sum().sort_values(by ='count',ascending=False).reset_index()\n",
    "dest_state = dest_state.rename(columns={\"count\": \"arrivals\"})"
   ]
  },
  {
   "cell_type": "code",
   "execution_count": 83,
   "metadata": {},
   "outputs": [],
   "source": [
    "origin_city['state'] = origin_city['origin_city_name'].str[-2:]\n",
    "origin_state = origin_city.groupby('state').sum().sort_values(by ='count',ascending=False).reset_index()\n",
    "origin_state = origin_state.rename(columns={\"count\": \"depatures\"})"
   ]
  },
  {
   "cell_type": "code",
   "execution_count": 84,
   "metadata": {},
   "outputs": [],
   "source": [
    "half = 0\n",
    "top_50 = 0\n",
    "for _ in dest_state.arrivals:\n",
    "    if half <= int(dest_state.arrivals.sum())/2:\n",
    "        half += int(dest_state.arrivals[top_50])\n",
    "        top_50 += 1"
   ]
  },
  {
   "cell_type": "code",
   "execution_count": 85,
   "metadata": {},
   "outputs": [
    {
     "data": {
      "text/plain": [
       "8"
      ]
     },
     "execution_count": 85,
     "metadata": {},
     "output_type": "execute_result"
    }
   ],
   "source": [
    "top_50"
   ]
  },
  {
   "cell_type": "code",
   "execution_count": 86,
   "metadata": {},
   "outputs": [],
   "source": [
    "state = pd.merge(dest_state, origin_state, on=['state'], how = 'inner')"
   ]
  },
  {
   "cell_type": "code",
   "execution_count": 148,
   "metadata": {},
   "outputs": [
    {
     "data": {
      "image/png": "[encoded data removed]",
      "text/plain": [
       "<Figure size 720x864 with 1 Axes>"
      ]
     },
     "metadata": {},
     "output_type": "display_data"
    }
   ],
   "source": [
    "fig1, ax1 = plt.subplots(figsize=(10, 12))\n",
    "plt.pie(state.arrivals,labels=state.state,autopct='%1.1f%%',startangle=90)\n",
    "plt.title('Arrival Delays')\n",
    "plt.axis('equal')\n",
    "plt.show()"
   ]
  },
  {
   "cell_type": "code",
   "execution_count": null,
   "metadata": {},
   "outputs": [],
   "source": []
  },
  {
   "cell_type": "code",
   "execution_count": null,
   "metadata": {},
   "outputs": [],
   "source": [
    "fig1, ax1 = plt.subplots()\n",
    "ax1.pie(sizes, , labels=labels, autopct='%1.1f%%',\n",
    "        shadow=False, startangle=90, textprops={'fontsize': 25})\n",
    "ax1.axis('equal')  # Equal aspect ratio ensures that pie is drawn as a circle.\n",
    "figure(figsize=(8, 6), dpi=80)\n",
    "\n",
    "plt.show()"
   ]
  },
  {
   "cell_type": "code",
   "execution_count": 87,
   "metadata": {},
   "outputs": [
    {
     "data": {
      "text/html": [
       "<div>\n",
       "<style scoped>\n",
       "    .dataframe tbody tr th:only-of-type {\n",
       "        vertical-align: middle;\n",
       "    }\n",
       "\n",
       "    .dataframe tbody tr th {\n",
       "        vertical-align: top;\n",
       "    }\n",
       "\n",
       "    .dataframe thead th {\n",
       "        text-align: right;\n",
       "    }\n",
       "</style>\n",
       "<table border=\"1\" class=\"dataframe\">\n",
       "  <thead>\n",
       "    <tr style=\"text-align: right;\">\n",
       "      <th></th>\n",
       "      <th>state</th>\n",
       "      <th>arrivals</th>\n",
       "      <th>depatures</th>\n",
       "    </tr>\n",
       "  </thead>\n",
       "  <tbody>\n",
       "    <tr>\n",
       "      <th>0</th>\n",
       "      <td>CA</td>\n",
       "      <td>1738330</td>\n",
       "      <td>1738254</td>\n",
       "    </tr>\n",
       "    <tr>\n",
       "      <th>1</th>\n",
       "      <td>TX</td>\n",
       "      <td>1572051</td>\n",
       "      <td>1572078</td>\n",
       "    </tr>\n",
       "    <tr>\n",
       "      <th>2</th>\n",
       "      <td>FL</td>\n",
       "      <td>1151320</td>\n",
       "      <td>1151221</td>\n",
       "    </tr>\n",
       "    <tr>\n",
       "      <th>3</th>\n",
       "      <td>IL</td>\n",
       "      <td>1008051</td>\n",
       "      <td>1008184</td>\n",
       "    </tr>\n",
       "    <tr>\n",
       "      <th>4</th>\n",
       "      <td>GA</td>\n",
       "      <td>841095</td>\n",
       "      <td>841057</td>\n",
       "    </tr>\n",
       "    <tr>\n",
       "      <th>5</th>\n",
       "      <td>NY</td>\n",
       "      <td>827847</td>\n",
       "      <td>827854</td>\n",
       "    </tr>\n",
       "    <tr>\n",
       "      <th>6</th>\n",
       "      <td>NC</td>\n",
       "      <td>736070</td>\n",
       "      <td>736077</td>\n",
       "    </tr>\n",
       "    <tr>\n",
       "      <th>7</th>\n",
       "      <td>CO</td>\n",
       "      <td>622441</td>\n",
       "      <td>622430</td>\n",
       "    </tr>\n",
       "    <tr>\n",
       "      <th>8</th>\n",
       "      <td>PA</td>\n",
       "      <td>475222</td>\n",
       "      <td>475258</td>\n",
       "    </tr>\n",
       "    <tr>\n",
       "      <th>9</th>\n",
       "      <td>DC</td>\n",
       "      <td>472915</td>\n",
       "      <td>472958</td>\n",
       "    </tr>\n",
       "    <tr>\n",
       "      <th>10</th>\n",
       "      <td>WA</td>\n",
       "      <td>459908</td>\n",
       "      <td>459928</td>\n",
       "    </tr>\n",
       "    <tr>\n",
       "      <th>11</th>\n",
       "      <td>MI</td>\n",
       "      <td>449351</td>\n",
       "      <td>449393</td>\n",
       "    </tr>\n",
       "    <tr>\n",
       "      <th>12</th>\n",
       "      <td>AZ</td>\n",
       "      <td>413134</td>\n",
       "      <td>413134</td>\n",
       "    </tr>\n",
       "    <tr>\n",
       "      <th>13</th>\n",
       "      <td>NV</td>\n",
       "      <td>379366</td>\n",
       "      <td>379296</td>\n",
       "    </tr>\n",
       "    <tr>\n",
       "      <th>14</th>\n",
       "      <td>OH</td>\n",
       "      <td>362840</td>\n",
       "      <td>362851</td>\n",
       "    </tr>\n",
       "    <tr>\n",
       "      <th>15</th>\n",
       "      <td>MN</td>\n",
       "      <td>344412</td>\n",
       "      <td>344462</td>\n",
       "    </tr>\n",
       "    <tr>\n",
       "      <th>16</th>\n",
       "      <td>NJ</td>\n",
       "      <td>332518</td>\n",
       "      <td>332563</td>\n",
       "    </tr>\n",
       "    <tr>\n",
       "      <th>17</th>\n",
       "      <td>MA</td>\n",
       "      <td>308947</td>\n",
       "      <td>308958</td>\n",
       "    </tr>\n",
       "    <tr>\n",
       "      <th>18</th>\n",
       "      <td>MO</td>\n",
       "      <td>294423</td>\n",
       "      <td>294386</td>\n",
       "    </tr>\n",
       "    <tr>\n",
       "      <th>19</th>\n",
       "      <td>TN</td>\n",
       "      <td>279991</td>\n",
       "      <td>279967</td>\n",
       "    </tr>\n",
       "    <tr>\n",
       "      <th>20</th>\n",
       "      <td>UT</td>\n",
       "      <td>250651</td>\n",
       "      <td>250456</td>\n",
       "    </tr>\n",
       "    <tr>\n",
       "      <th>21</th>\n",
       "      <td>HI</td>\n",
       "      <td>242227</td>\n",
       "      <td>242222</td>\n",
       "    </tr>\n",
       "    <tr>\n",
       "      <th>22</th>\n",
       "      <td>OR</td>\n",
       "      <td>226541</td>\n",
       "      <td>226538</td>\n",
       "    </tr>\n",
       "    <tr>\n",
       "      <th>23</th>\n",
       "      <td>MD</td>\n",
       "      <td>217315</td>\n",
       "      <td>217327</td>\n",
       "    </tr>\n",
       "    <tr>\n",
       "      <th>24</th>\n",
       "      <td>LA</td>\n",
       "      <td>169532</td>\n",
       "      <td>169508</td>\n",
       "    </tr>\n",
       "    <tr>\n",
       "      <th>25</th>\n",
       "      <td>VA</td>\n",
       "      <td>155807</td>\n",
       "      <td>155804</td>\n",
       "    </tr>\n",
       "    <tr>\n",
       "      <th>26</th>\n",
       "      <td>IN</td>\n",
       "      <td>144849</td>\n",
       "      <td>144852</td>\n",
       "    </tr>\n",
       "    <tr>\n",
       "      <th>27</th>\n",
       "      <td>WI</td>\n",
       "      <td>143071</td>\n",
       "      <td>143063</td>\n",
       "    </tr>\n",
       "    <tr>\n",
       "      <th>28</th>\n",
       "      <td>SC</td>\n",
       "      <td>138975</td>\n",
       "      <td>138952</td>\n",
       "    </tr>\n",
       "    <tr>\n",
       "      <th>29</th>\n",
       "      <td>OK</td>\n",
       "      <td>91120</td>\n",
       "      <td>91112</td>\n",
       "    </tr>\n",
       "    <tr>\n",
       "      <th>30</th>\n",
       "      <td>AL</td>\n",
       "      <td>87963</td>\n",
       "      <td>87952</td>\n",
       "    </tr>\n",
       "    <tr>\n",
       "      <th>31</th>\n",
       "      <td>AK</td>\n",
       "      <td>82619</td>\n",
       "      <td>82625</td>\n",
       "    </tr>\n",
       "    <tr>\n",
       "      <th>32</th>\n",
       "      <td>KY</td>\n",
       "      <td>81880</td>\n",
       "      <td>81876</td>\n",
       "    </tr>\n",
       "    <tr>\n",
       "      <th>33</th>\n",
       "      <td>NE</td>\n",
       "      <td>67183</td>\n",
       "      <td>67172</td>\n",
       "    </tr>\n",
       "    <tr>\n",
       "      <th>34</th>\n",
       "      <td>ID</td>\n",
       "      <td>66369</td>\n",
       "      <td>66659</td>\n",
       "    </tr>\n",
       "    <tr>\n",
       "      <th>35</th>\n",
       "      <td>AR</td>\n",
       "      <td>65768</td>\n",
       "      <td>65755</td>\n",
       "    </tr>\n",
       "    <tr>\n",
       "      <th>36</th>\n",
       "      <td>NM</td>\n",
       "      <td>63805</td>\n",
       "      <td>63794</td>\n",
       "    </tr>\n",
       "    <tr>\n",
       "      <th>37</th>\n",
       "      <td>CT</td>\n",
       "      <td>62351</td>\n",
       "      <td>62343</td>\n",
       "    </tr>\n",
       "    <tr>\n",
       "      <th>38</th>\n",
       "      <td>IA</td>\n",
       "      <td>62228</td>\n",
       "      <td>62224</td>\n",
       "    </tr>\n",
       "    <tr>\n",
       "      <th>39</th>\n",
       "      <td>MT</td>\n",
       "      <td>60064</td>\n",
       "      <td>60062</td>\n",
       "    </tr>\n",
       "    <tr>\n",
       "      <th>40</th>\n",
       "      <td>PR</td>\n",
       "      <td>57220</td>\n",
       "      <td>57200</td>\n",
       "    </tr>\n",
       "    <tr>\n",
       "      <th>41</th>\n",
       "      <td>ND</td>\n",
       "      <td>43160</td>\n",
       "      <td>43155</td>\n",
       "    </tr>\n",
       "    <tr>\n",
       "      <th>42</th>\n",
       "      <td>ME</td>\n",
       "      <td>42231</td>\n",
       "      <td>42224</td>\n",
       "    </tr>\n",
       "    <tr>\n",
       "      <th>43</th>\n",
       "      <td>RI</td>\n",
       "      <td>40685</td>\n",
       "      <td>40679</td>\n",
       "    </tr>\n",
       "    <tr>\n",
       "      <th>44</th>\n",
       "      <td>KS</td>\n",
       "      <td>33863</td>\n",
       "      <td>33866</td>\n",
       "    </tr>\n",
       "    <tr>\n",
       "      <th>45</th>\n",
       "      <td>SD</td>\n",
       "      <td>31351</td>\n",
       "      <td>31340</td>\n",
       "    </tr>\n",
       "    <tr>\n",
       "      <th>46</th>\n",
       "      <td>MS</td>\n",
       "      <td>31119</td>\n",
       "      <td>31116</td>\n",
       "    </tr>\n",
       "    <tr>\n",
       "      <th>47</th>\n",
       "      <td>VT</td>\n",
       "      <td>23711</td>\n",
       "      <td>23700</td>\n",
       "    </tr>\n",
       "    <tr>\n",
       "      <th>48</th>\n",
       "      <td>NH</td>\n",
       "      <td>23479</td>\n",
       "      <td>23488</td>\n",
       "    </tr>\n",
       "    <tr>\n",
       "      <th>49</th>\n",
       "      <td>WY</td>\n",
       "      <td>20549</td>\n",
       "      <td>20543</td>\n",
       "    </tr>\n",
       "    <tr>\n",
       "      <th>50</th>\n",
       "      <td>WV</td>\n",
       "      <td>17170</td>\n",
       "      <td>17172</td>\n",
       "    </tr>\n",
       "    <tr>\n",
       "      <th>51</th>\n",
       "      <td>VI</td>\n",
       "      <td>8302</td>\n",
       "      <td>8302</td>\n",
       "    </tr>\n",
       "    <tr>\n",
       "      <th>52</th>\n",
       "      <td>TT</td>\n",
       "      <td>4095</td>\n",
       "      <td>4095</td>\n",
       "    </tr>\n",
       "  </tbody>\n",
       "</table>\n",
       "</div>"
      ],
      "text/plain": [
       "   state  arrivals  depatures\n",
       "0     CA   1738330    1738254\n",
       "1     TX   1572051    1572078\n",
       "2     FL   1151320    1151221\n",
       "3     IL   1008051    1008184\n",
       "4     GA    841095     841057\n",
       "5     NY    827847     827854\n",
       "6     NC    736070     736077\n",
       "7     CO    622441     622430\n",
       "8     PA    475222     475258\n",
       "9     DC    472915     472958\n",
       "10    WA    459908     459928\n",
       "11    MI    449351     449393\n",
       "12    AZ    413134     413134\n",
       "13    NV    379366     379296\n",
       "14    OH    362840     362851\n",
       "15    MN    344412     344462\n",
       "16    NJ    332518     332563\n",
       "17    MA    308947     308958\n",
       "18    MO    294423     294386\n",
       "19    TN    279991     279967\n",
       "20    UT    250651     250456\n",
       "21    HI    242227     242222\n",
       "22    OR    226541     226538\n",
       "23    MD    217315     217327\n",
       "24    LA    169532     169508\n",
       "25    VA    155807     155804\n",
       "26    IN    144849     144852\n",
       "27    WI    143071     143063\n",
       "28    SC    138975     138952\n",
       "29    OK     91120      91112\n",
       "30    AL     87963      87952\n",
       "31    AK     82619      82625\n",
       "32    KY     81880      81876\n",
       "33    NE     67183      67172\n",
       "34    ID     66369      66659\n",
       "35    AR     65768      65755\n",
       "36    NM     63805      63794\n",
       "37    CT     62351      62343\n",
       "38    IA     62228      62224\n",
       "39    MT     60064      60062\n",
       "40    PR     57220      57200\n",
       "41    ND     43160      43155\n",
       "42    ME     42231      42224\n",
       "43    RI     40685      40679\n",
       "44    KS     33863      33866\n",
       "45    SD     31351      31340\n",
       "46    MS     31119      31116\n",
       "47    VT     23711      23700\n",
       "48    NH     23479      23488\n",
       "49    WY     20549      20543\n",
       "50    WV     17170      17172\n",
       "51    VI      8302       8302\n",
       "52    TT      4095       4095"
      ]
     },
     "execution_count": 87,
     "metadata": {},
     "output_type": "execute_result"
    }
   ],
   "source": [
    "state"
   ]
  },
  {
   "cell_type": "code",
   "execution_count": null,
   "metadata": {},
   "outputs": [],
   "source": []
  },
  {
   "cell_type": "markdown",
   "metadata": {},
   "source": [
    "#### **Task 7**: Test the hypothesis whether planes fly faster when there is the departure delay? "
   ]
  },
  {
   "cell_type": "code",
   "execution_count": 88,
   "metadata": {},
   "outputs": [],
   "source": [
    "df_delay = df[['dep_delay', 'arr_delay']]"
   ]
  },
  {
   "cell_type": "code",
   "execution_count": 89,
   "metadata": {},
   "outputs": [
    {
     "data": {
      "text/html": [
       "<div>\n",
       "<style scoped>\n",
       "    .dataframe tbody tr th:only-of-type {\n",
       "        vertical-align: middle;\n",
       "    }\n",
       "\n",
       "    .dataframe tbody tr th {\n",
       "        vertical-align: top;\n",
       "    }\n",
       "\n",
       "    .dataframe thead th {\n",
       "        text-align: right;\n",
       "    }\n",
       "</style>\n",
       "<table border=\"1\" class=\"dataframe\">\n",
       "  <thead>\n",
       "    <tr style=\"text-align: right;\">\n",
       "      <th></th>\n",
       "      <th>dep_delay</th>\n",
       "      <th>arr_delay</th>\n",
       "    </tr>\n",
       "  </thead>\n",
       "  <tbody>\n",
       "    <tr>\n",
       "      <th>0</th>\n",
       "      <td>-4.0</td>\n",
       "      <td>-9.0</td>\n",
       "    </tr>\n",
       "    <tr>\n",
       "      <th>1</th>\n",
       "      <td>NaN</td>\n",
       "      <td>NaN</td>\n",
       "    </tr>\n",
       "    <tr>\n",
       "      <th>2</th>\n",
       "      <td>-9.0</td>\n",
       "      <td>-21.0</td>\n",
       "    </tr>\n",
       "    <tr>\n",
       "      <th>3</th>\n",
       "      <td>0.0</td>\n",
       "      <td>41.0</td>\n",
       "    </tr>\n",
       "    <tr>\n",
       "      <th>4</th>\n",
       "      <td>88.0</td>\n",
       "      <td>121.0</td>\n",
       "    </tr>\n",
       "  </tbody>\n",
       "</table>\n",
       "</div>"
      ],
      "text/plain": [
       "   dep_delay  arr_delay\n",
       "0       -4.0       -9.0\n",
       "1        NaN        NaN\n",
       "2       -9.0      -21.0\n",
       "3        0.0       41.0\n",
       "4       88.0      121.0"
      ]
     },
     "execution_count": 89,
     "metadata": {},
     "output_type": "execute_result"
    }
   ],
   "source": [
    "df_delay.head()"
   ]
  },
  {
   "cell_type": "code",
   "execution_count": 90,
   "metadata": {},
   "outputs": [
    {
     "name": "stderr",
     "output_type": "stream",
     "text": [
      "/home/aj/anaconda3/lib/python3.8/site-packages/seaborn/_decorators.py:36: FutureWarning: Pass the following variables as keyword args: x, y. From version 0.12, the only valid positional argument will be `data`, and passing other arguments without an explicit keyword will result in an error or misinterpretation.\n",
      "  warnings.warn(\n"
     ]
    },
    {
     "data": {
      "text/plain": [
       "Text(0, 0.5, 'arr_delay')"
      ]
     },
     "execution_count": 90,
     "metadata": {},
     "output_type": "execute_result"
    },
    {
     "data": {
      "image/png": "[encoded data removed]",
      "text/plain": [
       "<Figure size 432x288 with 1 Axes>"
      ]
     },
     "metadata": {
      "needs_background": "light"
     },
     "output_type": "display_data"
    }
   ],
   "source": [
    "x_lim=[-200, 1400]\n",
    "y_lim=[-200, 1400]\n",
    "sns.scatterplot(x=df_delay['dep_delay'], y=df_delay['arr_delay'])\n",
    "sns.lineplot(x_lim, y_lim, color='red')\n",
    "plt.xlabel('dep_delay')\n",
    "plt.ylabel('arr_delay')"
   ]
  },
  {
   "cell_type": "markdown",
   "metadata": {},
   "source": [
    "Not really... arrival delays pretty closely match depature delays"
   ]
  },
  {
   "cell_type": "markdown",
   "metadata": {},
   "source": [
    "#### **Task 8**: When (which hour) do most 'LONG', 'SHORT', 'MEDIUM' haul flights take off?"
   ]
  },
  {
   "cell_type": "code",
   "execution_count": 91,
   "metadata": {},
   "outputs": [],
   "source": [
    "df['crs_dep_time'] = df['crs_dep_time'].astype(int)\n",
    "df['crs_arr_time'] = df['crs_arr_time'].astype(int)\n",
    "df['crs_dep_time'] = df['crs_dep_time'].astype(str)\n",
    "df['crs_arr_time'] = df['crs_arr_time'].astype(str)\n",
    "\n",
    "# create departure hour and arrival hour columns\n",
    "df['crs_dep_time'] = df['crs_dep_time'].apply(lambda x: str(x).zfill(4))\n",
    "df['crs_arr_time'] = df['crs_arr_time'].apply(lambda x: str(x).zfill(4))\n",
    "df['dep_h'] = df['crs_dep_time'].str[0:2]\n",
    "df['arr_h'] = df['crs_arr_time'].str[0:2]\n",
    "df['dep_h'] = df['dep_h'].replace('24', '00')\n",
    "df['arr_h'] = df['arr_h'].replace('24', '00')"
   ]
  },
  {
   "cell_type": "code",
   "execution_count": 92,
   "metadata": {},
   "outputs": [],
   "source": [
    "#short < 800\n",
    "#medium between 800-2200\n",
    "#long > 2200\n",
    "\n",
    "df_short = df[df['distance']<800]\n",
    "df_medium = df[(df['distance']>=800) & (df['distance']<2200)]\n",
    "df_long = df[df['distance']>2200]"
   ]
  },
  {
   "cell_type": "code",
   "execution_count": 93,
   "metadata": {},
   "outputs": [],
   "source": [
    "short_flights_per_h = df_short.groupby('dep_h')['flights'].count()\n",
    "medium_flights_per_h = df_medium.groupby('dep_h')['flights'].count()\n",
    "long_flights_per_h = df_long.groupby('dep_h')['flights'].count()"
   ]
  },
  {
   "cell_type": "code",
   "execution_count": 94,
   "metadata": {},
   "outputs": [
    {
     "data": {
      "text/plain": [
       "Text(0.5, 1.0, 'Number of short haul flights departing per hour')"
      ]
     },
     "execution_count": 94,
     "metadata": {},
     "output_type": "execute_result"
    },
    {
     "data": {
      "image/png": "[encoded data removed]",
      "text/plain": [
       "<Figure size 432x288 with 1 Axes>"
      ]
     },
     "metadata": {
      "needs_background": "light"
     },
     "output_type": "display_data"
    }
   ],
   "source": [
    "sns.barplot(x=short_flights_per_h.index, y=short_flights_per_h.values)\n",
    "plt.xlabel('Depature hour')\n",
    "plt.ylabel('Number of short haul flights')\n",
    "plt.title('Number of short haul flights departing per hour')"
   ]
  },
  {
   "cell_type": "code",
   "execution_count": 95,
   "metadata": {},
   "outputs": [
    {
     "data": {
      "text/plain": [
       "Text(0.5, 1.0, 'Number of medium haul flights departing per hour')"
      ]
     },
     "execution_count": 95,
     "metadata": {},
     "output_type": "execute_result"
    },
    {
     "data": {
      "image/png": "[encoded data removed]",
      "text/plain": [
       "<Figure size 432x288 with 1 Axes>"
      ]
     },
     "metadata": {
      "needs_background": "light"
     },
     "output_type": "display_data"
    }
   ],
   "source": [
    "sns.barplot(x=medium_flights_per_h.index, y=medium_flights_per_h.values)\n",
    "plt.xlabel('Depature hour')\n",
    "plt.ylabel('Number of medium haul flights')\n",
    "plt.title('Number of medium haul flights departing per hour')"
   ]
  },
  {
   "cell_type": "code",
   "execution_count": 96,
   "metadata": {},
   "outputs": [
    {
     "data": {
      "text/plain": [
       "Text(0.5, 1.0, 'Number of long haul flights departing per hour')"
      ]
     },
     "execution_count": 96,
     "metadata": {},
     "output_type": "execute_result"
    },
    {
     "data": {
      "image/png": "[encoded data removed]",
      "text/plain": [
       "<Figure size 432x288 with 1 Axes>"
      ]
     },
     "metadata": {
      "needs_background": "light"
     },
     "output_type": "display_data"
    }
   ],
   "source": [
    "sns.barplot(x=long_flights_per_h.index, y=long_flights_per_h.values)\n",
    "plt.xlabel('Depature hour')\n",
    "plt.ylabel('Number of long haul flights')\n",
    "plt.title('Number of long haul flights departing per hour')"
   ]
  },
  {
   "cell_type": "markdown",
   "metadata": {},
   "source": [
    "#### **Task 9**: Find the top 10 the bussiest airports. Does the biggest number of flights mean that the biggest number of passengers went through the particular airport? How much traffic do these 10 airports cover?"
   ]
  },
  {
   "cell_type": "code",
   "execution_count": 97,
   "metadata": {},
   "outputs": [
    {
     "data": {
      "text/html": [
       "<div>\n",
       "<style scoped>\n",
       "    .dataframe tbody tr th:only-of-type {\n",
       "        vertical-align: middle;\n",
       "    }\n",
       "\n",
       "    .dataframe tbody tr th {\n",
       "        vertical-align: top;\n",
       "    }\n",
       "\n",
       "    .dataframe thead th {\n",
       "        text-align: right;\n",
       "    }\n",
       "</style>\n",
       "<table border=\"1\" class=\"dataframe\">\n",
       "  <thead>\n",
       "    <tr style=\"text-align: right;\">\n",
       "      <th></th>\n",
       "      <th>fl_date</th>\n",
       "      <th>mkt_unique_carrier</th>\n",
       "      <th>mkt_carrier_fl_num</th>\n",
       "      <th>origin</th>\n",
       "      <th>dest</th>\n",
       "      <th>crs_dep_time</th>\n",
       "      <th>dep_time</th>\n",
       "      <th>dep_delay</th>\n",
       "      <th>taxi_out</th>\n",
       "      <th>wheels_off</th>\n",
       "      <th>wheels_on</th>\n",
       "      <th>taxi_in</th>\n",
       "      <th>crs_arr_time</th>\n",
       "      <th>arr_time</th>\n",
       "      <th>arr_delay</th>\n",
       "      <th>crs_elapsed_time</th>\n",
       "      <th>actual_elapsed_time</th>\n",
       "      <th>air_time</th>\n",
       "      <th>flights</th>\n",
       "      <th>distance</th>\n",
       "    </tr>\n",
       "  </thead>\n",
       "  <tbody>\n",
       "    <tr>\n",
       "      <th>0</th>\n",
       "      <td>2018-06-18</td>\n",
       "      <td>DL</td>\n",
       "      <td>2653</td>\n",
       "      <td>RDU</td>\n",
       "      <td>ATL</td>\n",
       "      <td>730</td>\n",
       "      <td>723.0</td>\n",
       "      <td>-7.0</td>\n",
       "      <td>38.0</td>\n",
       "      <td>801.0</td>\n",
       "      <td>853.0</td>\n",
       "      <td>6.0</td>\n",
       "      <td>856</td>\n",
       "      <td>859.0</td>\n",
       "      <td>3.0</td>\n",
       "      <td>86.0</td>\n",
       "      <td>96.0</td>\n",
       "      <td>52.0</td>\n",
       "      <td>1.0</td>\n",
       "      <td>356.0</td>\n",
       "    </tr>\n",
       "    <tr>\n",
       "      <th>1</th>\n",
       "      <td>2019-11-30</td>\n",
       "      <td>DL</td>\n",
       "      <td>5211</td>\n",
       "      <td>MSP</td>\n",
       "      <td>CWA</td>\n",
       "      <td>1019</td>\n",
       "      <td>1014.0</td>\n",
       "      <td>-5.0</td>\n",
       "      <td>48.0</td>\n",
       "      <td>1102.0</td>\n",
       "      <td>1140.0</td>\n",
       "      <td>6.0</td>\n",
       "      <td>1117</td>\n",
       "      <td>1146.0</td>\n",
       "      <td>29.0</td>\n",
       "      <td>58.0</td>\n",
       "      <td>92.0</td>\n",
       "      <td>38.0</td>\n",
       "      <td>1.0</td>\n",
       "      <td>175.0</td>\n",
       "    </tr>\n",
       "    <tr>\n",
       "      <th>2</th>\n",
       "      <td>2018-10-23</td>\n",
       "      <td>AA</td>\n",
       "      <td>4715</td>\n",
       "      <td>ROC</td>\n",
       "      <td>CLT</td>\n",
       "      <td>1850</td>\n",
       "      <td>1842.0</td>\n",
       "      <td>-8.0</td>\n",
       "      <td>13.0</td>\n",
       "      <td>1855.0</td>\n",
       "      <td>2028.0</td>\n",
       "      <td>28.0</td>\n",
       "      <td>2055</td>\n",
       "      <td>2056.0</td>\n",
       "      <td>1.0</td>\n",
       "      <td>125.0</td>\n",
       "      <td>134.0</td>\n",
       "      <td>93.0</td>\n",
       "      <td>1.0</td>\n",
       "      <td>573.0</td>\n",
       "    </tr>\n",
       "    <tr>\n",
       "      <th>3</th>\n",
       "      <td>2019-04-29</td>\n",
       "      <td>AA</td>\n",
       "      <td>2807</td>\n",
       "      <td>MIA</td>\n",
       "      <td>TPA</td>\n",
       "      <td>1335</td>\n",
       "      <td>1356.0</td>\n",
       "      <td>21.0</td>\n",
       "      <td>22.0</td>\n",
       "      <td>1418.0</td>\n",
       "      <td>1458.0</td>\n",
       "      <td>10.0</td>\n",
       "      <td>1438</td>\n",
       "      <td>1508.0</td>\n",
       "      <td>30.0</td>\n",
       "      <td>63.0</td>\n",
       "      <td>72.0</td>\n",
       "      <td>40.0</td>\n",
       "      <td>1.0</td>\n",
       "      <td>204.0</td>\n",
       "    </tr>\n",
       "    <tr>\n",
       "      <th>4</th>\n",
       "      <td>2018-07-17</td>\n",
       "      <td>UA</td>\n",
       "      <td>5698</td>\n",
       "      <td>ORD</td>\n",
       "      <td>SBN</td>\n",
       "      <td>1944</td>\n",
       "      <td>2035.0</td>\n",
       "      <td>51.0</td>\n",
       "      <td>19.0</td>\n",
       "      <td>2054.0</td>\n",
       "      <td>2214.0</td>\n",
       "      <td>5.0</td>\n",
       "      <td>2135</td>\n",
       "      <td>2219.0</td>\n",
       "      <td>44.0</td>\n",
       "      <td>51.0</td>\n",
       "      <td>44.0</td>\n",
       "      <td>20.0</td>\n",
       "      <td>1.0</td>\n",
       "      <td>84.0</td>\n",
       "    </tr>\n",
       "  </tbody>\n",
       "</table>\n",
       "</div>"
      ],
      "text/plain": [
       "      fl_date mkt_unique_carrier  mkt_carrier_fl_num origin dest  \\\n",
       "0  2018-06-18                 DL                2653    RDU  ATL   \n",
       "1  2019-11-30                 DL                5211    MSP  CWA   \n",
       "2  2018-10-23                 AA                4715    ROC  CLT   \n",
       "3  2019-04-29                 AA                2807    MIA  TPA   \n",
       "4  2018-07-17                 UA                5698    ORD  SBN   \n",
       "\n",
       "   crs_dep_time  dep_time  dep_delay  taxi_out  wheels_off  wheels_on  \\\n",
       "0           730     723.0       -7.0      38.0       801.0      853.0   \n",
       "1          1019    1014.0       -5.0      48.0      1102.0     1140.0   \n",
       "2          1850    1842.0       -8.0      13.0      1855.0     2028.0   \n",
       "3          1335    1356.0       21.0      22.0      1418.0     1458.0   \n",
       "4          1944    2035.0       51.0      19.0      2054.0     2214.0   \n",
       "\n",
       "   taxi_in  crs_arr_time  arr_time  arr_delay  crs_elapsed_time  \\\n",
       "0      6.0           856     859.0        3.0              86.0   \n",
       "1      6.0          1117    1146.0       29.0              58.0   \n",
       "2     28.0          2055    2056.0        1.0             125.0   \n",
       "3     10.0          1438    1508.0       30.0              63.0   \n",
       "4      5.0          2135    2219.0       44.0              51.0   \n",
       "\n",
       "   actual_elapsed_time  air_time  flights  distance  \n",
       "0                 96.0      52.0      1.0     356.0  \n",
       "1                 92.0      38.0      1.0     175.0  \n",
       "2                134.0      93.0      1.0     573.0  \n",
       "3                 72.0      40.0      1.0     204.0  \n",
       "4                 44.0      20.0      1.0      84.0  "
      ]
     },
     "execution_count": 97,
     "metadata": {},
     "output_type": "execute_result"
    }
   ],
   "source": [
    "df = pd.read_csv('Project_Files/sample.csv', sep=',')\n",
    "df = df.drop(columns=['Unnamed: 0', 'branded_code_share', 'mkt_carrier', 'op_unique_carrier', 'tail_num', \\\n",
    "                      'op_carrier_fl_num', 'origin_airport_id', 'dest_airport_id', 'carrier_delay', 'weather_delay', \\\n",
    "                      'nas_delay', 'security_delay', 'late_aircraft_delay', 'first_dep_time', 'total_add_gtime', \\\n",
    "                      'longest_add_gtime', 'no_name', 'origin_city_name', 'dest_city_name', 'cancelled', \\\n",
    "                     'cancellation_code', 'diverted', 'dup'])\n",
    "df.head()"
   ]
  },
  {
   "cell_type": "code",
   "execution_count": 98,
   "metadata": {},
   "outputs": [],
   "source": [
    "top_10_origin = df.groupby('origin')['flights'].count().sort_values(ascending=False).nlargest(10)\n",
    "top_10_dest = df.groupby('dest')['flights'].count().sort_values(ascending=False).nlargest(10)"
   ]
  },
  {
   "cell_type": "code",
   "execution_count": 99,
   "metadata": {},
   "outputs": [
    {
     "data": {
      "text/plain": [
       "Text(0.5, 1.0, 'Top 10 busiest airports for flight origin')"
      ]
     },
     "execution_count": 99,
     "metadata": {},
     "output_type": "execute_result"
    },
    {
     "data": {
      "image/png": "[encoded data removed]",
      "text/plain": [
       "<Figure size 432x288 with 1 Axes>"
      ]
     },
     "metadata": {
      "needs_background": "light"
     },
     "output_type": "display_data"
    }
   ],
   "source": [
    "sns.barplot(x=top_10_origin.index, y=top_10_origin.values)\n",
    "plt.xlabel('origin')\n",
    "plt.ylabel('Number of flights')\n",
    "plt.title('Top 10 busiest airports for flight origin')"
   ]
  },
  {
   "cell_type": "code",
   "execution_count": 100,
   "metadata": {},
   "outputs": [
    {
     "data": {
      "text/plain": [
       "Text(0.5, 1.0, 'Top 10 busiest airports for flight destination')"
      ]
     },
     "execution_count": 100,
     "metadata": {},
     "output_type": "execute_result"
    },
    {
     "data": {
      "image/png": "[encoded data removed]",
      "text/plain": [
       "<Figure size 432x288 with 1 Axes>"
      ]
     },
     "metadata": {
      "needs_background": "light"
     },
     "output_type": "display_data"
    }
   ],
   "source": [
    "sns.barplot(x=top_10_origin.index, y=top_10_origin.values)\n",
    "plt.xlabel('destination')\n",
    "plt.ylabel('Number of flights')\n",
    "plt.title('Top 10 busiest airports for flight destination')"
   ]
  },
  {
   "cell_type": "code",
   "execution_count": 101,
   "metadata": {},
   "outputs": [],
   "source": [
    "top_10_late_carriers= df.groupby('mkt_unique_carrier')['arr_delay'].mean().sort_values(ascending=False).nlargest(10)"
   ]
  },
  {
   "cell_type": "code",
   "execution_count": 102,
   "metadata": {},
   "outputs": [
    {
     "data": {
      "text/plain": [
       "mkt_unique_carrier\n",
       "B6    23.387049\n",
       "UA    20.652960\n",
       "F9    20.145955\n",
       "NK    17.415372\n",
       "G4    15.954741\n",
       "AA    15.313070\n",
       "DL    11.906707\n",
       "WN    10.298015\n",
       "VX     8.581967\n",
       "AS     7.220975\n",
       "Name: arr_delay, dtype: float64"
      ]
     },
     "execution_count": 102,
     "metadata": {},
     "output_type": "execute_result"
    }
   ],
   "source": [
    "top_10_late_carriers"
   ]
  },
  {
   "cell_type": "markdown",
   "metadata": {},
   "source": [
    "#### **Task 10**: Do bigger delays lead to bigger fuel comsumption per passenger? \n",
    "We need to do four things to answer this as accurate as possible:\n",
    "- Find out average monthly delay per air carrier (monthly delay is sum of all delays in 1 month)\n",
    "- Find out distance covered monthly by different air carriers\n",
    "- Find out number of passengers that were carried by different air carriers\n",
    "- Find out total fuel comsumption per air carrier.\n",
    "\n",
    "Use this information to get the average fuel comsumption per passenger per km. Is this higher for the airlines with bigger average delays?"
   ]
  },
  {
   "cell_type": "code",
   "execution_count": 105,
   "metadata": {},
   "outputs": [],
   "source": [
    "passengers = pd.read_sql_query('''SELECT * FROM passengers ORDER BY RANDOM() LIMIT 10000;''', conn)"
   ]
  },
  {
   "cell_type": "code",
   "execution_count": 106,
   "metadata": {},
   "outputs": [],
   "source": [
    "flights = pd.read_sql_query('''SELECT * FROM flights ORDER BY RANDOM() LIMIT 10000;''', conn)"
   ]
  },
  {
   "cell_type": "code",
   "execution_count": 107,
   "metadata": {},
   "outputs": [],
   "source": [
    "fuel = pd.read_sql_query('''SELECT * FROM fuel_comsumption ORDER BY RANDOM() LIMIT 10000;''', conn)"
   ]
  },
  {
   "cell_type": "code",
   "execution_count": 108,
   "metadata": {},
   "outputs": [],
   "source": [
    "avg_delay=flights[['op_unique_carrier','arr_delay']].groupby('op_unique_carrier').mean()\n",
    "avg_delay=avg_delay.reset_index()\n",
    "avg_delay.columns=['unique_carrier','arr_delay']"
   ]
  },
  {
   "cell_type": "code",
   "execution_count": 109,
   "metadata": {},
   "outputs": [],
   "source": [
    "avg_fuel=fuel[['unique_carrier','total_gallons']].groupby('unique_carrier').mean()"
   ]
  },
  {
   "cell_type": "code",
   "execution_count": 110,
   "metadata": {},
   "outputs": [
    {
     "name": "stderr",
     "output_type": "stream",
     "text": [
      "<ipython-input-110-21da266b7d82>:2: SettingWithCopyWarning: \n",
      "A value is trying to be set on a copy of a slice from a DataFrame.\n",
      "Try using .loc[row_indexer,col_indexer] = value instead\n",
      "\n",
      "See the caveats in the documentation: https://pandas.pydata.org/pandas-docs/stable/user_guide/indexing.html#returning-a-view-versus-a-copy\n",
      "  total_cust_km['total_km']=total_cust_km['passengers']*total_cust_km['distance']\n"
     ]
    }
   ],
   "source": [
    "total_cust_km=passengers[['unique_carrier','passengers','distance']]\n",
    "total_cust_km['total_km']=total_cust_km['passengers']*total_cust_km['distance']\n",
    "total_cust=total_cust_km[['unique_carrier','total_km']].groupby('unique_carrier').sum()"
   ]
  },
  {
   "cell_type": "code",
   "execution_count": 111,
   "metadata": {},
   "outputs": [
    {
     "data": {
      "text/html": [
       "<div>\n",
       "<style scoped>\n",
       "    .dataframe tbody tr th:only-of-type {\n",
       "        vertical-align: middle;\n",
       "    }\n",
       "\n",
       "    .dataframe tbody tr th {\n",
       "        vertical-align: top;\n",
       "    }\n",
       "\n",
       "    .dataframe thead th {\n",
       "        text-align: right;\n",
       "    }\n",
       "</style>\n",
       "<table border=\"1\" class=\"dataframe\">\n",
       "  <thead>\n",
       "    <tr style=\"text-align: right;\">\n",
       "      <th></th>\n",
       "      <th>unique_carrier</th>\n",
       "      <th>arr_delay</th>\n",
       "      <th>total_gallons</th>\n",
       "      <th>total_km</th>\n",
       "      <th>gal_per_km</th>\n",
       "    </tr>\n",
       "  </thead>\n",
       "  <tbody>\n",
       "    <tr>\n",
       "      <th>9</th>\n",
       "      <td>G7</td>\n",
       "      <td>22.544554</td>\n",
       "      <td>0.000000e+00</td>\n",
       "      <td>4.918746e+07</td>\n",
       "      <td>0.000000</td>\n",
       "    </tr>\n",
       "    <tr>\n",
       "      <th>7</th>\n",
       "      <td>F9</td>\n",
       "      <td>15.610294</td>\n",
       "      <td>1.974201e+07</td>\n",
       "      <td>3.299759e+08</td>\n",
       "      <td>0.059829</td>\n",
       "    </tr>\n",
       "    <tr>\n",
       "      <th>6</th>\n",
       "      <td>EV</td>\n",
       "      <td>14.118812</td>\n",
       "      <td>4.782577e+04</td>\n",
       "      <td>1.834337e+08</td>\n",
       "      <td>0.000261</td>\n",
       "    </tr>\n",
       "    <tr>\n",
       "      <th>3</th>\n",
       "      <td>B6</td>\n",
       "      <td>12.502825</td>\n",
       "      <td>6.608877e+07</td>\n",
       "      <td>1.139669e+09</td>\n",
       "      <td>0.057989</td>\n",
       "    </tr>\n",
       "    <tr>\n",
       "      <th>12</th>\n",
       "      <td>NK</td>\n",
       "      <td>8.906250</td>\n",
       "      <td>2.918083e+07</td>\n",
       "      <td>6.227024e+08</td>\n",
       "      <td>0.046862</td>\n",
       "    </tr>\n",
       "    <tr>\n",
       "      <th>13</th>\n",
       "      <td>OH</td>\n",
       "      <td>6.641096</td>\n",
       "      <td>0.000000e+00</td>\n",
       "      <td>1.208994e+08</td>\n",
       "      <td>0.000000</td>\n",
       "    </tr>\n",
       "    <tr>\n",
       "      <th>17</th>\n",
       "      <td>VX</td>\n",
       "      <td>6.545455</td>\n",
       "      <td>1.582843e+07</td>\n",
       "      <td>1.665559e+08</td>\n",
       "      <td>0.095034</td>\n",
       "    </tr>\n",
       "    <tr>\n",
       "      <th>16</th>\n",
       "      <td>UA</td>\n",
       "      <td>6.254194</td>\n",
       "      <td>2.799457e+08</td>\n",
       "      <td>4.301303e+09</td>\n",
       "      <td>0.065084</td>\n",
       "    </tr>\n",
       "    <tr>\n",
       "      <th>8</th>\n",
       "      <td>G4</td>\n",
       "      <td>5.674797</td>\n",
       "      <td>1.490811e+07</td>\n",
       "      <td>2.276576e+08</td>\n",
       "      <td>0.065485</td>\n",
       "    </tr>\n",
       "    <tr>\n",
       "      <th>20</th>\n",
       "      <td>YX</td>\n",
       "      <td>5.559809</td>\n",
       "      <td>5.036814e+06</td>\n",
       "      <td>1.613398e+08</td>\n",
       "      <td>0.031219</td>\n",
       "    </tr>\n",
       "    <tr>\n",
       "      <th>10</th>\n",
       "      <td>HA</td>\n",
       "      <td>5.548673</td>\n",
       "      <td>2.129050e+07</td>\n",
       "      <td>3.204793e+08</td>\n",
       "      <td>0.066433</td>\n",
       "    </tr>\n",
       "    <tr>\n",
       "      <th>11</th>\n",
       "      <td>MQ</td>\n",
       "      <td>5.248705</td>\n",
       "      <td>0.000000e+00</td>\n",
       "      <td>1.139063e+08</td>\n",
       "      <td>0.000000</td>\n",
       "    </tr>\n",
       "    <tr>\n",
       "      <th>1</th>\n",
       "      <td>AA</td>\n",
       "      <td>4.963093</td>\n",
       "      <td>2.918401e+08</td>\n",
       "      <td>4.614917e+09</td>\n",
       "      <td>0.063238</td>\n",
       "    </tr>\n",
       "    <tr>\n",
       "      <th>14</th>\n",
       "      <td>OO</td>\n",
       "      <td>4.942073</td>\n",
       "      <td>6.696561e+06</td>\n",
       "      <td>4.604583e+08</td>\n",
       "      <td>0.014543</td>\n",
       "    </tr>\n",
       "    <tr>\n",
       "      <th>18</th>\n",
       "      <td>WN</td>\n",
       "      <td>3.846343</td>\n",
       "      <td>1.684042e+08</td>\n",
       "      <td>2.600704e+09</td>\n",
       "      <td>0.064753</td>\n",
       "    </tr>\n",
       "    <tr>\n",
       "      <th>19</th>\n",
       "      <td>YV</td>\n",
       "      <td>3.638462</td>\n",
       "      <td>0.000000e+00</td>\n",
       "      <td>1.717943e+08</td>\n",
       "      <td>0.000000</td>\n",
       "    </tr>\n",
       "    <tr>\n",
       "      <th>4</th>\n",
       "      <td>CP</td>\n",
       "      <td>3.527273</td>\n",
       "      <td>0.000000e+00</td>\n",
       "      <td>8.908540e+07</td>\n",
       "      <td>0.000000</td>\n",
       "    </tr>\n",
       "    <tr>\n",
       "      <th>21</th>\n",
       "      <td>ZW</td>\n",
       "      <td>3.272727</td>\n",
       "      <td>3.630095e+06</td>\n",
       "      <td>2.906893e+07</td>\n",
       "      <td>0.124879</td>\n",
       "    </tr>\n",
       "    <tr>\n",
       "      <th>0</th>\n",
       "      <td>9E</td>\n",
       "      <td>2.200000</td>\n",
       "      <td>0.000000e+00</td>\n",
       "      <td>1.218028e+08</td>\n",
       "      <td>0.000000</td>\n",
       "    </tr>\n",
       "    <tr>\n",
       "      <th>5</th>\n",
       "      <td>DL</td>\n",
       "      <td>1.438424</td>\n",
       "      <td>2.903553e+08</td>\n",
       "      <td>4.014300e+09</td>\n",
       "      <td>0.072330</td>\n",
       "    </tr>\n",
       "    <tr>\n",
       "      <th>15</th>\n",
       "      <td>QX</td>\n",
       "      <td>-0.409938</td>\n",
       "      <td>0.000000e+00</td>\n",
       "      <td>3.584600e+07</td>\n",
       "      <td>0.000000</td>\n",
       "    </tr>\n",
       "    <tr>\n",
       "      <th>2</th>\n",
       "      <td>AS</td>\n",
       "      <td>-1.912752</td>\n",
       "      <td>4.699045e+07</td>\n",
       "      <td>8.673764e+08</td>\n",
       "      <td>0.054175</td>\n",
       "    </tr>\n",
       "  </tbody>\n",
       "</table>\n",
       "</div>"
      ],
      "text/plain": [
       "   unique_carrier  arr_delay  total_gallons      total_km  gal_per_km\n",
       "9              G7  22.544554   0.000000e+00  4.918746e+07    0.000000\n",
       "7              F9  15.610294   1.974201e+07  3.299759e+08    0.059829\n",
       "6              EV  14.118812   4.782577e+04  1.834337e+08    0.000261\n",
       "3              B6  12.502825   6.608877e+07  1.139669e+09    0.057989\n",
       "12             NK   8.906250   2.918083e+07  6.227024e+08    0.046862\n",
       "13             OH   6.641096   0.000000e+00  1.208994e+08    0.000000\n",
       "17             VX   6.545455   1.582843e+07  1.665559e+08    0.095034\n",
       "16             UA   6.254194   2.799457e+08  4.301303e+09    0.065084\n",
       "8              G4   5.674797   1.490811e+07  2.276576e+08    0.065485\n",
       "20             YX   5.559809   5.036814e+06  1.613398e+08    0.031219\n",
       "10             HA   5.548673   2.129050e+07  3.204793e+08    0.066433\n",
       "11             MQ   5.248705   0.000000e+00  1.139063e+08    0.000000\n",
       "1              AA   4.963093   2.918401e+08  4.614917e+09    0.063238\n",
       "14             OO   4.942073   6.696561e+06  4.604583e+08    0.014543\n",
       "18             WN   3.846343   1.684042e+08  2.600704e+09    0.064753\n",
       "19             YV   3.638462   0.000000e+00  1.717943e+08    0.000000\n",
       "4              CP   3.527273   0.000000e+00  8.908540e+07    0.000000\n",
       "21             ZW   3.272727   3.630095e+06  2.906893e+07    0.124879\n",
       "0              9E   2.200000   0.000000e+00  1.218028e+08    0.000000\n",
       "5              DL   1.438424   2.903553e+08  4.014300e+09    0.072330\n",
       "15             QX  -0.409938   0.000000e+00  3.584600e+07    0.000000\n",
       "2              AS  -1.912752   4.699045e+07  8.673764e+08    0.054175"
      ]
     },
     "execution_count": 111,
     "metadata": {},
     "output_type": "execute_result"
    }
   ],
   "source": [
    "avg=avg_delay.merge(avg_fuel,on='unique_carrier')\n",
    "avg=avg.merge(total_cust,on='unique_carrier')\n",
    "avg['gal_per_km']=avg['total_gallons']/avg['total_km']\n",
    "avg.sort_values(by='arr_delay',ascending=False)"
   ]
  },
  {
   "cell_type": "code",
   "execution_count": 112,
   "metadata": {},
   "outputs": [
    {
     "data": {
      "text/plain": [
       "<matplotlib.collections.PathCollection at 0x7f0d0742a1c0>"
      ]
     },
     "execution_count": 112,
     "metadata": {},
     "output_type": "execute_result"
    },
    {
     "data": {
      "image/png": "[encoded data removed]",
      "text/plain": [
       "<Figure size 432x288 with 1 Axes>"
      ]
     },
     "metadata": {
      "needs_background": "light"
     },
     "output_type": "display_data"
    }
   ],
   "source": [
    "x=avg['arr_delay']\n",
    "y=avg['gal_per_km']\n",
    "plt.scatter(x,y)"
   ]
  },
  {
   "cell_type": "code",
   "execution_count": null,
   "metadata": {},
   "outputs": [],
   "source": []
  }
 ],
 "metadata": {
  "kernelspec": {
   "display_name": "Python 3",
   "language": "python",
   "name": "python3"
  },
  "language_info": {
   "codemirror_mode": {
    "name": "ipython",
    "version": 3
   },
   "file_extension": ".py",
   "mimetype": "text/x-python",
   "name": "python",
   "nbconvert_exporter": "python",
   "pygments_lexer": "ipython3",
   "version": "3.8.5"
  },
  "toc": {
   "base_numbering": 1,
   "nav_menu": {},
   "number_sections": true,
   "sideBar": true,
   "skip_h1_title": false,
   "title_cell": "Table of Contents",
   "title_sidebar": "Contents",
   "toc_cell": false,
   "toc_position": {},
   "toc_section_display": true,
   "toc_window_display": false
  },
  "varInspector": {
   "cols": {
    "lenName": 16,
    "lenType": 16,
    "lenVar": 40
   },
   "kernels_config": {
    "python": {
     "delete_cmd_postfix": "",
     "delete_cmd_prefix": "del ",
     "library": "var_list.py",
     "varRefreshCmd": "print(var_dic_list())"
    },
    "r": {
     "delete_cmd_postfix": ") ",
     "delete_cmd_prefix": "rm(",
     "library": "var_list.r",
     "varRefreshCmd": "cat(var_dic_list()) "
    }
   },
   "types_to_exclude": [
    "module",
    "function",
    "builtin_function_or_method",
    "instance",
    "_Feature"
   ],
   "window_display": false
  }
 },
 "nbformat": 4,
 "nbformat_minor": 4
}
